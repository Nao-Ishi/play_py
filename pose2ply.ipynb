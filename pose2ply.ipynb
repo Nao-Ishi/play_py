{
  "nbformat": 4,
  "nbformat_minor": 0,
  "metadata": {
    "colab": {
      "name": "pose2ply.ipynb",
      "provenance": [],
      "collapsed_sections": [],
      "authorship_tag": "ABX9TyNWJ8VkvmVKjan036guPGp/",
      "include_colab_link": true
    },
    "kernelspec": {
      "name": "python3",
      "display_name": "Python 3"
    }
  },
  "cells": [
    {
      "cell_type": "markdown",
      "metadata": {
        "id": "view-in-github",
        "colab_type": "text"
      },
      "source": [
        "<a href=\"https://colab.research.google.com/github/Nao-Ishi/play_py/blob/master/pose2ply.ipynb\" target=\"_parent\"><img src=\"https://colab.research.google.com/assets/colab-badge.svg\" alt=\"Open In Colab\"/></a>"
      ]
    },
    {
      "cell_type": "code",
      "metadata": {
        "id": "i7bUIS6vt_vM"
      },
      "source": [
        "import numpy as np"
      ],
      "execution_count": null,
      "outputs": []
    },
    {
      "cell_type": "code",
      "metadata": {
        "id": "HZmvf8bXzKYS",
        "colab": {
          "base_uri": "https://localhost:8080/",
          "height": 236
        },
        "outputId": "fd694f7f-8f61-405d-fe2e-1fd5ce8bbcf7"
      },
      "source": [
        "#色々入力してね\n",
        "h_cnt = [0.9, 1.25, 1.6] #高さ方向の数値 [m]\n",
        "\n",
        "c50 = np.array([[0.30229283, 0.26876699, 0.29190551, 0.44331238, 0.27483331,\n",
        "       0.27121048, 0.1151186 , 0.23398328],\n",
        "       [0.30599727, 0.24394648, 0.31647424, 0.35368354, 0.2286205 ,\n",
        "       0.26218875, 0.21093114, 0.28586426],\n",
        "       [0.30180296, 0.23968913, 0.32047967, 0.31996314, 0.35020924,\n",
        "       0.30758876, 0.20923308, 0.32752457]]\n",
        "       )\n",
        "\n",
        "c50_max = np.max(c50)\n",
        "c50_min = np.min(c50)\n",
        "c50 = (c50 - c50_min)/(c50_max-c50_min)*255\n",
        "print(c50)"
      ],
      "execution_count": 1,
      "outputs": [
        {
          "output_type": "error",
          "ename": "NameError",
          "evalue": "ignored",
          "traceback": [
            "\u001b[0;31m---------------------------------------------------------------------------\u001b[0m",
            "\u001b[0;31mNameError\u001b[0m                                 Traceback (most recent call last)",
            "\u001b[0;32m<ipython-input-1-786e913b1247>\u001b[0m in \u001b[0;36m<module>\u001b[0;34m()\u001b[0m\n\u001b[1;32m      2\u001b[0m \u001b[0mh_cnt\u001b[0m \u001b[0;34m=\u001b[0m \u001b[0;34m[\u001b[0m\u001b[0;36m0.9\u001b[0m\u001b[0;34m,\u001b[0m \u001b[0;36m1.25\u001b[0m\u001b[0;34m,\u001b[0m \u001b[0;36m1.6\u001b[0m\u001b[0;34m]\u001b[0m \u001b[0;31m#高さ方向の数値 [m]\u001b[0m\u001b[0;34m\u001b[0m\u001b[0;34m\u001b[0m\u001b[0m\n\u001b[1;32m      3\u001b[0m \u001b[0;34m\u001b[0m\u001b[0m\n\u001b[0;32m----> 4\u001b[0;31m c50 = np.array([[0.30229283, 0.26876699, 0.29190551, 0.44331238, 0.27483331,\n\u001b[0m\u001b[1;32m      5\u001b[0m        0.27121048, 0.1151186 , 0.23398328],\n\u001b[1;32m      6\u001b[0m        [0.30599727, 0.24394648, 0.31647424, 0.35368354, 0.2286205 ,\n",
            "\u001b[0;31mNameError\u001b[0m: name 'np' is not defined"
          ]
        }
      ]
    },
    {
      "cell_type": "code",
      "metadata": {
        "id": "sUObVhRrXXl4",
        "colab": {
          "base_uri": "https://localhost:8080/",
          "height": 34
        },
        "outputId": "96ac4ad0-bbf3-43ee-ca93-099c0dd90f8c"
      },
      "source": [
        "print(str(int(c50[0][0])))"
      ],
      "execution_count": null,
      "outputs": [
        {
          "output_type": "stream",
          "text": [
            "96\n"
          ],
          "name": "stdout"
        }
      ]
    },
    {
      "cell_type": "code",
      "metadata": {
        "id": "thmxIK0ipMo9",
        "colab": {
          "base_uri": "https://localhost:8080/",
          "height": 105
        },
        "outputId": "88e6d4f2-26a8-4f7c-bc78-694cbafe39b7"
      },
      "source": [
        "with open('pose.txt') as f:\n",
        "  pose_org = f.readlines()\n",
        "  print(pose_org)\n",
        "\n",
        "pose_num = int(len(pose_org))\n",
        "print(pose_num)\n",
        "\n",
        "pose = np.array([[0.0]*3 for i in range(pose_num)])\n",
        "\n",
        "for i in range(pose_num):\n",
        "  pool = pose_org[i].split()\n",
        "  pose[i][0],pose[i][1],pose[i][2] = float(pool[0]),float(pool[1]),float(pool[2])\n",
        "\n",
        "\n",
        "print(len(pose))\n",
        "print(str(pose[0][0]))"
      ],
      "execution_count": null,
      "outputs": [
        {
          "output_type": "stream",
          "text": [
            "['0.395008563995 -0.12917663157 0.00363593385555\\n', '0.119368307292 0.916135311127 0.0139014851302\\n', '1.18878555298 0.818947315216 0.0131175843999\\n', '1.64102220535 -0.180739954114 0.0140864821151\\n', '2.62672138214 -0.18087361753 0.0198376048356\\n', '2.84535288811 0.971751749516 -0.0120560172945\\n', '3.73013353348 0.947728931904 0.00268845702522\\n', '3.34282040596 -0.114130809903 0.0414666347206\\n']\n",
            "8\n",
            "8\n",
            "0.395008563995\n"
          ],
          "name": "stdout"
        }
      ]
    },
    {
      "cell_type": "code",
      "metadata": {
        "id": "khxlBtDxpckK"
      },
      "source": [
        "#pose_f = open('pose.txt','r')\n",
        "ply_f = open('pose_ply.ply','w')\n",
        "\n",
        "ply_f.write(\n",
        "'''ply\n",
        "format ascii 1.0\n",
        "comment Kinect v1 generated\n",
        "element vertex 24\n",
        "property double x\n",
        "property double y\n",
        "property double z\n",
        "property uchar red\n",
        "property uchar green\n",
        "property uchar blue\n",
        "end_header\n",
        "\n",
        "''')\n",
        "\n",
        "#for data in pose_f:\n",
        "for s in range(pose_num):\n",
        "  pose_str = str(pose[s][0]) + \" \" + str(pose[s][1]) + \" \" + str(pose[s][2]+0.5) + \" 0 \" + str(int(c50[0][s])) + \" \" + str(255-int(c50[0][s])) + \"\\n\"\n",
        "  ply_f.write(pose_str)\n",
        "  #### uncode\n",
        "  pose_str = str(pose[s][0]) + \" \" + str(pose[s][1]) + \" \" + str(pose[s][2]+0.85) + \" 0 \" + str(int(c50[1][s])) + \" \" + str(255-int(c50[1][s])) + \"\\n\"\n",
        "  ply_f.write(pose_str)\n",
        "  pose_str = str(pose[s][0]) + \" \" + str(pose[s][1]) + \" \" + str(pose[s][2]+1.2) + \" 0 \" + str(int(c50[2][s])) + \" \" + str(255-int(c50[2][s])) + \"\\n\"\n",
        "  ply_f.write(pose_str)\n",
        "  ####\n",
        "ply_f.close()"
      ],
      "execution_count": null,
      "outputs": []
    },
    {
      "cell_type": "code",
      "metadata": {
        "id": "6HJlgUQMrlzA"
      },
      "source": [
        ""
      ],
      "execution_count": null,
      "outputs": []
    }
  ]
}