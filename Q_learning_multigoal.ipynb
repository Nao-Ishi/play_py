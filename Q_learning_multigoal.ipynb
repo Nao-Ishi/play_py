{
  "nbformat": 4,
  "nbformat_minor": 0,
  "metadata": {
    "kernelspec": {
      "display_name": "Python 3",
      "language": "python",
      "name": "python3"
    },
    "language_info": {
      "codemirror_mode": {
        "name": "ipython",
        "version": 3
      },
      "file_extension": ".py",
      "mimetype": "text/x-python",
      "name": "python",
      "nbconvert_exporter": "python",
      "pygments_lexer": "ipython3",
      "version": "3.8.1"
    },
    "colab": {
      "name": "Q-learning-multigoal.ipynb ",
      "provenance": [],
      "collapsed_sections": [],
      "include_colab_link": true
    }
  },
  "cells": [
    {
      "cell_type": "markdown",
      "metadata": {
        "id": "view-in-github",
        "colab_type": "text"
      },
      "source": [
        "<a href=\"https://colab.research.google.com/github/Nao-Ishi/play_py/blob/master/Q_learning_multigoal.ipynb\" target=\"_parent\"><img src=\"https://colab.research.google.com/assets/colab-badge.svg\" alt=\"Open In Colab\"/></a>"
      ]
    },
    {
      "cell_type": "markdown",
      "metadata": {
        "id": "zNwmGRnvzRv1",
        "colab_type": "text"
      },
      "source": [
        "# 単一スタート＋複数ゴールSarsa,Q学習\n",
        "イメージ：現在地から一番近いゴールを目指す。そこから更に一番近いゴールを目指す。"
      ]
    },
    {
      "cell_type": "markdown",
      "metadata": {
        "id": "JUUIsm9DzRv5",
        "colab_type": "text"
      },
      "source": [
        "# エージェントの定義\n",
        "エージェント\n",
        "- 仮想的なロボット（ロボットの知能部分\n",
        "- 自分の起こせる行動(self.actions\n",
        "- 自分のいる座標(self.pos\n"
      ]
    },
    {
      "cell_type": "code",
      "metadata": {
        "id": "AvVq_NA9zRv8",
        "colab_type": "code",
        "colab": {}
      },
      "source": [
        "class Agent:\n",
        "    def __init__(self):\n",
        "        self.actions = [\"up\",\"down\",\"left\",\"right\"]\n",
        "        self.pos = (0,0)\n",
        "        \n",
        "agent = Agent()"
      ],
      "execution_count": 0,
      "outputs": []
    },
    {
      "cell_type": "markdown",
      "metadata": {
        "id": "uwAifEiVzRwG",
        "colab_type": "text"
      },
      "source": [
        "# 環境の定義\n",
        "初期化(init\n",
        "- 全域をgoalとして初期化\n",
        "- 測定点とその周囲をペナルティエリアとして更新？再考の必要あり\n"
      ]
    },
    {
      "cell_type": "code",
      "metadata": {
        "id": "qFStaHXIzRwI",
        "colab_type": "code",
        "outputId": "39140f29-c82f-4fdf-830c-7cbcaefa1dcc",
        "colab": {
          "base_uri": "https://localhost:8080/",
          "height": 55
        }
      },
      "source": [
        "size = 20 #タイルワールドの全体サイズ　可変\n",
        "\n",
        "class State:\n",
        "    def __init__(self,actions):\n",
        "        self.Q = {}\n",
        "        for a in actions:\n",
        "            self.Q[a] = 10.0\n",
        "        self.best_action = \"up\"\n",
        "        self.goal = False\n",
        "        self.pa = False\n",
        "        \n",
        "    def set_goal(self,actions):\n",
        "        for a in actions:\n",
        "            self.Q[a] =0.0\n",
        "        self.goal = True\n",
        "        self.pa = False\n",
        "        \n",
        "    def set_pa(self,actions):\n",
        "        for a in actions:\n",
        "            self.Q[a] += 5.0\n",
        "        self.goal = False\n",
        "        self.pa = True\n",
        "        \n",
        "        \n",
        "#設定したサイズ文のタイルワールドを定義  \n",
        "states = [[State(agent.actions) for i in range(size)] for j in range(size)]\n",
        "for i in range(size):\n",
        "    for j in range(size):\n",
        "        states[i][j].set_goal(agent.actions)\n",
        "    \n",
        "#障害の定義（今回は侵入しても良い→壁とは違う→無理やり突っ込むことも　変更可　複数宣言可\n",
        "\"\"\" \n",
        "for i in range(3):\n",
        "    for j in range(3):\n",
        "        states[i+1][j+2].set_pa(agent.actions)\n",
        "  \n",
        "for i in range(5):\n",
        "    for j in range(7):\n",
        "        states[i+3][j+7].set_pa(agent.actions)\n",
        "\"\"\""
      ],
      "execution_count": 0,
      "outputs": [
        {
          "output_type": "execute_result",
          "data": {
            "text/plain": [
              "' \\nfor i in range(3):\\n    for j in range(3):\\n        states[i+1][j+2].set_pa(agent.actions)\\n  \\nfor i in range(5):\\n    for j in range(7):\\n        states[i+3][j+7].set_pa(agent.actions)\\n'"
            ]
          },
          "metadata": {
            "tags": []
          },
          "execution_count": 12
        }
      ]
    },
    {
      "cell_type": "markdown",
      "metadata": {
        "id": "1Ijo5_SPzRwO",
        "colab_type": "text"
      },
      "source": [
        "# 描画\n",
        "前セルで作成したタイルワールドをプロット。\n",
        "\n",
        "表示内容は下段：最適な行動、上段：その報酬\n",
        "\n",
        "本プログラムではゴールまでの歩数＝報酬としているので報酬が低い方へ進んでいく\n"
      ]
    },
    {
      "cell_type": "code",
      "metadata": {
        "id": "Wq-QW_lLzRwQ",
        "colab_type": "code",
        "outputId": "826effff-0876-499c-824f-079fc43a6fa0",
        "colab": {
          "base_uri": "https://localhost:8080/",
          "height": 35
        }
      },
      "source": [
        "import matplotlib.pyplot as plt  \n",
        "import matplotlib.patches as patches\n",
        "\n",
        "fig_num = 0\n",
        "\n",
        "def draw(mark_pos):\n",
        "    global fig_num\n",
        "    fig, ax = plt.subplots()\n",
        "    values = [[states[i][j].Q[states[i][j].best_action] for j in range(size)] for i in range(size)]\n",
        "    mp = ax.pcolor(values, cmap=plt.cm.YlOrRd,vmin=0,vmax=30)\n",
        "    ax.set_aspect(1)\n",
        "    ax.set_xticks(range(size), minor=False)\n",
        "    ax.set_yticks(range(size), minor=False)\n",
        "  \n",
        "    \n",
        "    for x in range(len(values)):\n",
        "        for y in range(len(values[0])):\n",
        "            s = states[y][x]\n",
        "            #plt.text(x+0.5,y+0.5,int(1000*s.Q[s.best_action])/1000,ha = 'center', va = 'center', size=10)\n",
        "            #if states[y][x].goal:\n",
        "                #plt.text(x+0.75,y+0.75,\"G\",ha = 'center', va = 'center', size=20)\n",
        "                \n",
        "    #plt.text(agent.pos[0]+0.5,agent.pos[1]+0.25,\"agent\",ha = 'center', va = 'center', size=20)\n",
        "    \n",
        "    #if mark_pos == \"all\":   # 指定した位置にactionの文字列を書くという処理\n",
        "        #for x in range(size):\n",
        "            #for y in range(size):\n",
        "                #if states[y][x].goal: continue\n",
        "                #plt.text(x+0.5,y+0.25,states[y][x].best_action,ha = 'center', va = 'center', size=10)\n",
        "    #elif mark_pos != None: \n",
        "        #s = states[mark_pos[0]][mark_pos[1]]\n",
        "        #plt.text(mark_pos[0]+0.5,mark_pos[1]+0.25,s.best_action,ha = 'center', va = 'center', size=10)  \n",
        "    \n",
        "#    fig_num_s = \"\"\n",
        "#    if fig_num< 10:\n",
        "#        fig_num_s = \"00\" + str(fig_num)\n",
        "#    elif fig_num<100:\n",
        "#        fig_num_s = \"0\" + str(fig_num)\n",
        "#    else :\n",
        "#        fig_num_s = str(fig_num)\n",
        "    plt.savefig(str(fig_num) + \".png\",bbox_inches='tight')\n",
        "    fig_num += 1\n",
        "    #plt.show()\n",
        "    fig.clear()\n",
        "\n",
        "    \n",
        "draw(\"all\")"
      ],
      "execution_count": 0,
      "outputs": [
        {
          "output_type": "display_data",
          "data": {
            "text/plain": [
              "<Figure size 432x288 with 0 Axes>"
            ]
          },
          "metadata": {
            "tags": []
          }
        }
      ]
    },
    {
      "cell_type": "markdown",
      "metadata": {
        "id": "e4Unk35AzRwd",
        "colab_type": "text"
      },
      "source": [
        "# 状態遷移の実装\n",
        "現在座標と行動を引数として、行動後の座標を返します。\n",
        "\n",
        "頭打ち処理でエリア外への脱走防止。"
      ]
    },
    {
      "cell_type": "code",
      "metadata": {
        "id": "0lOiNo7pzRwf",
        "colab_type": "code",
        "colab": {}
      },
      "source": [
        "import random\n",
        "\n",
        "def state_transition(s_pos,a):\n",
        "    ###確率10%で元のまま ###\n",
        "    if random.uniform(0,1) < 0.1:\n",
        "        return s_pos\n",
        "    \n",
        "    x,y = s_pos\n",
        "    if   a == \"up\": x += 1\n",
        "    elif a == \"down\": x -= 1\n",
        "    elif a == \"right\": y += 1\n",
        "    elif a == \"left\": y -= 1\n",
        "        \n",
        "    if x < 0:       x = 0\n",
        "    elif x >= size: x = size-1\n",
        "    if y < 0:       y = 0\n",
        "    elif y >= size: y = size-1\n",
        "        \n",
        "    return (x,y)"
      ],
      "execution_count": 0,
      "outputs": []
    },
    {
      "cell_type": "markdown",
      "metadata": {
        "id": "akLXtr0ezRwn",
        "colab_type": "text"
      },
      "source": [
        "# 方策(ε-greedy)\n",
        "たまに変な方向へ行く\n",
        "\n",
        "Sarsa用"
      ]
    },
    {
      "cell_type": "code",
      "metadata": {
        "id": "KHXDIuVzzRwo",
        "colab_type": "code",
        "colab": {}
      },
      "source": [
        "def e_greedy(s):\n",
        "    if random.uniform(0,1) < 0.1: #10%でランダムに\n",
        "        return random.choice(agent.actions)\n",
        "    else:\n",
        "        best_a = None\n",
        "        best_q = 1000000000\n",
        "        for a in s.Q:\n",
        "            if best_q > s.Q[a]:\n",
        "                best_q = s.Q[a]\n",
        "                best_a = a\n",
        "        s.best_action = best_a\n",
        "        return best_a"
      ],
      "execution_count": 0,
      "outputs": []
    },
    {
      "cell_type": "markdown",
      "metadata": {
        "id": "RDNad_SJzRwv",
        "colab_type": "text"
      },
      "source": [
        "# 方策(greedy)\n",
        "常に最適なものを選ぶ\n",
        "\n",
        "Q学習用"
      ]
    },
    {
      "cell_type": "code",
      "metadata": {
        "id": "1pmOt0zqzRww",
        "colab_type": "code",
        "colab": {}
      },
      "source": [
        "def max_a(s):\n",
        "    best_a = None\n",
        "    best_q = 1000000000\n",
        "    for a in s.Q:\n",
        "        if best_q > s.Q[a]:\n",
        "            best_q = s.Q[a]\n",
        "            best_a = a\n",
        "    s.best_action = best_a\n",
        "    return best_a"
      ],
      "execution_count": 0,
      "outputs": []
    },
    {
      "cell_type": "markdown",
      "metadata": {
        "id": "8s5sI_ajzRw4",
        "colab_type": "text"
      },
      "source": [
        "# 学習\n",
        "現状は単一ゴール、ランダムスタートで学習\n",
        "\n",
        "一般的な迷路探索問題+障害ペナルティ（水たまり的な"
      ]
    },
    {
      "cell_type": "code",
      "metadata": {
        "id": "goHb7E90zRw5",
        "colab_type": "code",
        "outputId": "d5018ea5-1ce1-4912-abfb-40deaf94725e",
        "colab": {
          "base_uri": "https://localhost:8080/",
          "height": 55
        }
      },
      "source": [
        "alpha = 0.2 #学習係数　今回の事象をどの程度反映させるか、高すぎると偶発的な事象に引っ張られるので注意\n",
        "gamma = 1.0 #割引率　　一般的に0.99-0.9辺りが使われる\n",
        "\n",
        "def sarsa(s_pos,a):\n",
        "    s = states[s_pos[0]][s_pos[1]]\n",
        "    s_next_pos = state_transition(s_pos,a)\n",
        "    s_next = states[s_next_pos[0]][s_next_pos[1]]\n",
        "    #a_next = max_a(s_next)#次の状態で一番良いaで学習 Q-leaning\n",
        "    a_next = e_greedy(s_next)#次の状態で選んだaで学習 Sarsa\n",
        "    \n",
        "    #qの更新式\n",
        "    q = (1.0-alpha)*s.Q[a] + alpha * (1.0 + gamma * s_next.Q[a_next] + states[s_next_pos[0]][s_next_pos[1]].pa * 10)\n",
        "    #if states[s_pos[0]][s_pos[1]].pa:\n",
        "    #    q = q + 20\n",
        "    #print(\"s:\" + str(s_pos)+ \"　a:\" + a + \" s':\" + str(s_next_pos) + \" a':\" + a_next)\n",
        "    #print(\"----\")\n",
        "    return s_next_pos, a_next, q\n",
        "\n",
        "def one_trial(s_pos):\n",
        "    agent.pos = s_pos\n",
        "    #agent.pos = (0,0)\n",
        "    a = e_greedy(states[agent.pos[0]][agent.pos[1]])\n",
        "    if states[agent.pos[0]][agent.pos[1]].goal:\n",
        "        return\n",
        "          \n",
        "    for i in range(100):\n",
        "        #draw(None)\n",
        "        s_next, a_next, q = sarsa(agent.pos,a)\n",
        "        states[agent.pos[0]][agent.pos[1]].Q[a] = q\n",
        "        agent.pos = s_next\n",
        "        a = a_next            \n",
        "        if states[agent.pos[0]][agent.pos[1]].goal:\n",
        "            break\n",
        "\"\"\"            \n",
        "n = 0            \n",
        "for i in range(10000):\n",
        "    one_trial(agent.pos)\n",
        "    \n",
        "    if i==10**n-1:\n",
        "        print(i+1)\n",
        "        n +=1\n",
        "        draw(None)\n",
        "      \n",
        "\n",
        "#plt.show()\n",
        "\"\"\""
      ],
      "execution_count": 0,
      "outputs": [
        {
          "output_type": "execute_result",
          "data": {
            "text/plain": [
              "'            \\nn = 0            \\nfor i in range(10000):\\n    one_trial(agent.pos)\\n    \\n    if i==10**n-1:\\n        print(i+1)\\n        n +=1\\n        draw(None)\\n      \\n\\n#plt.show()\\n'"
            ]
          },
          "metadata": {
            "tags": []
          },
          "execution_count": 17
        }
      ]
    },
    {
      "cell_type": "markdown",
      "metadata": {
        "id": "WOtjJuctOOBz",
        "colab_type": "text"
      },
      "source": [
        "# 測定とマップの再定義\n",
        "測定地点（現在のスタート地点）と周囲8マスをペナルティエリアとする\n",
        "\n",
        "マップに深さ（信頼度？）の概念入れた方が良い気がする\n",
        "\n",
        "ゴール消滅問題　終了処理をどうするか…とりあえずゴールが無くなったらで"
      ]
    },
    {
      "cell_type": "code",
      "metadata": {
        "id": "LDacWXcDONhT",
        "colab_type": "code",
        "outputId": "401b90a8-7fbe-4f11-882b-a6a89bcc92e5",
        "colab": {
          "base_uri": "https://localhost:8080/",
          "height": 1000
        }
      },
      "source": [
        "def do_measurememt(s_pos):\n",
        "    for i in range(3):\n",
        "        for j in range(3):\n",
        "            if (s_pos[0]+i-1)>=0 and  (s_pos[0]+i-1)<size and (s_pos[1]+j-1)>=0 and (s_pos[1]+j-1)<size:\n",
        "                states[s_pos[0]+i-1][s_pos[1]+j-1].set_pa(agent.actions)\n",
        "\n",
        "#agent.pos=(0,0)\n",
        "def demo_():\n",
        "    agent.pos = (random.randrange(size),random.randrange(size))\n",
        "    while True:\n",
        "        goal_detect = False\n",
        "        for i in range(size):\n",
        "            for j in range(size):\n",
        "                goal_detect|=states[i][j].goal\n",
        "        if goal_detect==False:\n",
        "            break\n",
        "\n",
        "        \n",
        "        for i in range(10000):\n",
        "            one_trial(agent.pos)\n",
        "        do_measurememt(agent.pos)\n",
        "        \n",
        "        \n",
        "        draw(\"all\")\n",
        "\n",
        "demo_()"
      ],
      "execution_count": 0,
      "outputs": [
        {
          "output_type": "stream",
          "text": [
            "/usr/local/lib/python3.6/dist-packages/ipykernel_launcher.py:8: RuntimeWarning: More than 20 figures have been opened. Figures created through the pyplot interface (`matplotlib.pyplot.figure`) are retained until explicitly closed and may consume too much memory. (To control this warning, see the rcParam `figure.max_open_warning`).\n",
            "  \n"
          ],
          "name": "stderr"
        },
        {
          "output_type": "display_data",
          "data": {
            "text/plain": [
              "<Figure size 432x288 with 0 Axes>"
            ]
          },
          "metadata": {
            "tags": []
          }
        },
        {
          "output_type": "display_data",
          "data": {
            "text/plain": [
              "<Figure size 432x288 with 0 Axes>"
            ]
          },
          "metadata": {
            "tags": []
          }
        },
        {
          "output_type": "display_data",
          "data": {
            "text/plain": [
              "<Figure size 432x288 with 0 Axes>"
            ]
          },
          "metadata": {
            "tags": []
          }
        },
        {
          "output_type": "display_data",
          "data": {
            "text/plain": [
              "<Figure size 432x288 with 0 Axes>"
            ]
          },
          "metadata": {
            "tags": []
          }
        },
        {
          "output_type": "display_data",
          "data": {
            "text/plain": [
              "<Figure size 432x288 with 0 Axes>"
            ]
          },
          "metadata": {
            "tags": []
          }
        },
        {
          "output_type": "display_data",
          "data": {
            "text/plain": [
              "<Figure size 432x288 with 0 Axes>"
            ]
          },
          "metadata": {
            "tags": []
          }
        },
        {
          "output_type": "display_data",
          "data": {
            "text/plain": [
              "<Figure size 432x288 with 0 Axes>"
            ]
          },
          "metadata": {
            "tags": []
          }
        },
        {
          "output_type": "display_data",
          "data": {
            "text/plain": [
              "<Figure size 432x288 with 0 Axes>"
            ]
          },
          "metadata": {
            "tags": []
          }
        },
        {
          "output_type": "display_data",
          "data": {
            "text/plain": [
              "<Figure size 432x288 with 0 Axes>"
            ]
          },
          "metadata": {
            "tags": []
          }
        },
        {
          "output_type": "display_data",
          "data": {
            "text/plain": [
              "<Figure size 432x288 with 0 Axes>"
            ]
          },
          "metadata": {
            "tags": []
          }
        },
        {
          "output_type": "display_data",
          "data": {
            "text/plain": [
              "<Figure size 432x288 with 0 Axes>"
            ]
          },
          "metadata": {
            "tags": []
          }
        },
        {
          "output_type": "display_data",
          "data": {
            "text/plain": [
              "<Figure size 432x288 with 0 Axes>"
            ]
          },
          "metadata": {
            "tags": []
          }
        },
        {
          "output_type": "display_data",
          "data": {
            "text/plain": [
              "<Figure size 432x288 with 0 Axes>"
            ]
          },
          "metadata": {
            "tags": []
          }
        },
        {
          "output_type": "display_data",
          "data": {
            "text/plain": [
              "<Figure size 432x288 with 0 Axes>"
            ]
          },
          "metadata": {
            "tags": []
          }
        },
        {
          "output_type": "display_data",
          "data": {
            "text/plain": [
              "<Figure size 432x288 with 0 Axes>"
            ]
          },
          "metadata": {
            "tags": []
          }
        },
        {
          "output_type": "display_data",
          "data": {
            "text/plain": [
              "<Figure size 432x288 with 0 Axes>"
            ]
          },
          "metadata": {
            "tags": []
          }
        },
        {
          "output_type": "display_data",
          "data": {
            "text/plain": [
              "<Figure size 432x288 with 0 Axes>"
            ]
          },
          "metadata": {
            "tags": []
          }
        },
        {
          "output_type": "display_data",
          "data": {
            "text/plain": [
              "<Figure size 432x288 with 0 Axes>"
            ]
          },
          "metadata": {
            "tags": []
          }
        },
        {
          "output_type": "display_data",
          "data": {
            "text/plain": [
              "<Figure size 432x288 with 0 Axes>"
            ]
          },
          "metadata": {
            "tags": []
          }
        },
        {
          "output_type": "display_data",
          "data": {
            "text/plain": [
              "<Figure size 432x288 with 0 Axes>"
            ]
          },
          "metadata": {
            "tags": []
          }
        },
        {
          "output_type": "display_data",
          "data": {
            "text/plain": [
              "<Figure size 432x288 with 0 Axes>"
            ]
          },
          "metadata": {
            "tags": []
          }
        },
        {
          "output_type": "display_data",
          "data": {
            "text/plain": [
              "<Figure size 432x288 with 0 Axes>"
            ]
          },
          "metadata": {
            "tags": []
          }
        },
        {
          "output_type": "display_data",
          "data": {
            "text/plain": [
              "<Figure size 432x288 with 0 Axes>"
            ]
          },
          "metadata": {
            "tags": []
          }
        },
        {
          "output_type": "display_data",
          "data": {
            "text/plain": [
              "<Figure size 432x288 with 0 Axes>"
            ]
          },
          "metadata": {
            "tags": []
          }
        },
        {
          "output_type": "display_data",
          "data": {
            "text/plain": [
              "<Figure size 432x288 with 0 Axes>"
            ]
          },
          "metadata": {
            "tags": []
          }
        },
        {
          "output_type": "display_data",
          "data": {
            "text/plain": [
              "<Figure size 432x288 with 0 Axes>"
            ]
          },
          "metadata": {
            "tags": []
          }
        },
        {
          "output_type": "display_data",
          "data": {
            "text/plain": [
              "<Figure size 432x288 with 0 Axes>"
            ]
          },
          "metadata": {
            "tags": []
          }
        },
        {
          "output_type": "display_data",
          "data": {
            "text/plain": [
              "<Figure size 432x288 with 0 Axes>"
            ]
          },
          "metadata": {
            "tags": []
          }
        },
        {
          "output_type": "display_data",
          "data": {
            "text/plain": [
              "<Figure size 432x288 with 0 Axes>"
            ]
          },
          "metadata": {
            "tags": []
          }
        },
        {
          "output_type": "display_data",
          "data": {
            "text/plain": [
              "<Figure size 432x288 with 0 Axes>"
            ]
          },
          "metadata": {
            "tags": []
          }
        },
        {
          "output_type": "display_data",
          "data": {
            "text/plain": [
              "<Figure size 432x288 with 0 Axes>"
            ]
          },
          "metadata": {
            "tags": []
          }
        },
        {
          "output_type": "display_data",
          "data": {
            "text/plain": [
              "<Figure size 432x288 with 0 Axes>"
            ]
          },
          "metadata": {
            "tags": []
          }
        },
        {
          "output_type": "display_data",
          "data": {
            "text/plain": [
              "<Figure size 432x288 with 0 Axes>"
            ]
          },
          "metadata": {
            "tags": []
          }
        },
        {
          "output_type": "display_data",
          "data": {
            "text/plain": [
              "<Figure size 432x288 with 0 Axes>"
            ]
          },
          "metadata": {
            "tags": []
          }
        },
        {
          "output_type": "display_data",
          "data": {
            "text/plain": [
              "<Figure size 432x288 with 0 Axes>"
            ]
          },
          "metadata": {
            "tags": []
          }
        },
        {
          "output_type": "display_data",
          "data": {
            "text/plain": [
              "<Figure size 432x288 with 0 Axes>"
            ]
          },
          "metadata": {
            "tags": []
          }
        },
        {
          "output_type": "display_data",
          "data": {
            "text/plain": [
              "<Figure size 432x288 with 0 Axes>"
            ]
          },
          "metadata": {
            "tags": []
          }
        },
        {
          "output_type": "display_data",
          "data": {
            "text/plain": [
              "<Figure size 432x288 with 0 Axes>"
            ]
          },
          "metadata": {
            "tags": []
          }
        },
        {
          "output_type": "display_data",
          "data": {
            "text/plain": [
              "<Figure size 432x288 with 0 Axes>"
            ]
          },
          "metadata": {
            "tags": []
          }
        },
        {
          "output_type": "display_data",
          "data": {
            "text/plain": [
              "<Figure size 432x288 with 0 Axes>"
            ]
          },
          "metadata": {
            "tags": []
          }
        },
        {
          "output_type": "display_data",
          "data": {
            "text/plain": [
              "<Figure size 432x288 with 0 Axes>"
            ]
          },
          "metadata": {
            "tags": []
          }
        },
        {
          "output_type": "display_data",
          "data": {
            "text/plain": [
              "<Figure size 432x288 with 0 Axes>"
            ]
          },
          "metadata": {
            "tags": []
          }
        },
        {
          "output_type": "display_data",
          "data": {
            "text/plain": [
              "<Figure size 432x288 with 0 Axes>"
            ]
          },
          "metadata": {
            "tags": []
          }
        },
        {
          "output_type": "display_data",
          "data": {
            "text/plain": [
              "<Figure size 432x288 with 0 Axes>"
            ]
          },
          "metadata": {
            "tags": []
          }
        },
        {
          "output_type": "display_data",
          "data": {
            "text/plain": [
              "<Figure size 432x288 with 0 Axes>"
            ]
          },
          "metadata": {
            "tags": []
          }
        },
        {
          "output_type": "display_data",
          "data": {
            "text/plain": [
              "<Figure size 432x288 with 0 Axes>"
            ]
          },
          "metadata": {
            "tags": []
          }
        },
        {
          "output_type": "display_data",
          "data": {
            "text/plain": [
              "<Figure size 432x288 with 0 Axes>"
            ]
          },
          "metadata": {
            "tags": []
          }
        },
        {
          "output_type": "display_data",
          "data": {
            "text/plain": [
              "<Figure size 432x288 with 0 Axes>"
            ]
          },
          "metadata": {
            "tags": []
          }
        },
        {
          "output_type": "display_data",
          "data": {
            "text/plain": [
              "<Figure size 432x288 with 0 Axes>"
            ]
          },
          "metadata": {
            "tags": []
          }
        },
        {
          "output_type": "display_data",
          "data": {
            "text/plain": [
              "<Figure size 432x288 with 0 Axes>"
            ]
          },
          "metadata": {
            "tags": []
          }
        },
        {
          "output_type": "display_data",
          "data": {
            "text/plain": [
              "<Figure size 432x288 with 0 Axes>"
            ]
          },
          "metadata": {
            "tags": []
          }
        },
        {
          "output_type": "display_data",
          "data": {
            "text/plain": [
              "<Figure size 432x288 with 0 Axes>"
            ]
          },
          "metadata": {
            "tags": []
          }
        },
        {
          "output_type": "display_data",
          "data": {
            "text/plain": [
              "<Figure size 432x288 with 0 Axes>"
            ]
          },
          "metadata": {
            "tags": []
          }
        },
        {
          "output_type": "display_data",
          "data": {
            "text/plain": [
              "<Figure size 432x288 with 0 Axes>"
            ]
          },
          "metadata": {
            "tags": []
          }
        },
        {
          "output_type": "display_data",
          "data": {
            "text/plain": [
              "<Figure size 432x288 with 0 Axes>"
            ]
          },
          "metadata": {
            "tags": []
          }
        },
        {
          "output_type": "display_data",
          "data": {
            "text/plain": [
              "<Figure size 432x288 with 0 Axes>"
            ]
          },
          "metadata": {
            "tags": []
          }
        },
        {
          "output_type": "display_data",
          "data": {
            "text/plain": [
              "<Figure size 432x288 with 0 Axes>"
            ]
          },
          "metadata": {
            "tags": []
          }
        },
        {
          "output_type": "display_data",
          "data": {
            "text/plain": [
              "<Figure size 432x288 with 0 Axes>"
            ]
          },
          "metadata": {
            "tags": []
          }
        },
        {
          "output_type": "display_data",
          "data": {
            "text/plain": [
              "<Figure size 432x288 with 0 Axes>"
            ]
          },
          "metadata": {
            "tags": []
          }
        },
        {
          "output_type": "display_data",
          "data": {
            "text/plain": [
              "<Figure size 432x288 with 0 Axes>"
            ]
          },
          "metadata": {
            "tags": []
          }
        },
        {
          "output_type": "display_data",
          "data": {
            "text/plain": [
              "<Figure size 432x288 with 0 Axes>"
            ]
          },
          "metadata": {
            "tags": []
          }
        },
        {
          "output_type": "display_data",
          "data": {
            "text/plain": [
              "<Figure size 432x288 with 0 Axes>"
            ]
          },
          "metadata": {
            "tags": []
          }
        },
        {
          "output_type": "display_data",
          "data": {
            "text/plain": [
              "<Figure size 432x288 with 0 Axes>"
            ]
          },
          "metadata": {
            "tags": []
          }
        },
        {
          "output_type": "display_data",
          "data": {
            "text/plain": [
              "<Figure size 432x288 with 0 Axes>"
            ]
          },
          "metadata": {
            "tags": []
          }
        },
        {
          "output_type": "display_data",
          "data": {
            "text/plain": [
              "<Figure size 432x288 with 0 Axes>"
            ]
          },
          "metadata": {
            "tags": []
          }
        },
        {
          "output_type": "display_data",
          "data": {
            "text/plain": [
              "<Figure size 432x288 with 0 Axes>"
            ]
          },
          "metadata": {
            "tags": []
          }
        },
        {
          "output_type": "display_data",
          "data": {
            "text/plain": [
              "<Figure size 432x288 with 0 Axes>"
            ]
          },
          "metadata": {
            "tags": []
          }
        },
        {
          "output_type": "display_data",
          "data": {
            "text/plain": [
              "<Figure size 432x288 with 0 Axes>"
            ]
          },
          "metadata": {
            "tags": []
          }
        },
        {
          "output_type": "display_data",
          "data": {
            "text/plain": [
              "<Figure size 432x288 with 0 Axes>"
            ]
          },
          "metadata": {
            "tags": []
          }
        },
        {
          "output_type": "display_data",
          "data": {
            "text/plain": [
              "<Figure size 432x288 with 0 Axes>"
            ]
          },
          "metadata": {
            "tags": []
          }
        },
        {
          "output_type": "display_data",
          "data": {
            "text/plain": [
              "<Figure size 432x288 with 0 Axes>"
            ]
          },
          "metadata": {
            "tags": []
          }
        },
        {
          "output_type": "display_data",
          "data": {
            "text/plain": [
              "<Figure size 432x288 with 0 Axes>"
            ]
          },
          "metadata": {
            "tags": []
          }
        },
        {
          "output_type": "display_data",
          "data": {
            "text/plain": [
              "<Figure size 432x288 with 0 Axes>"
            ]
          },
          "metadata": {
            "tags": []
          }
        },
        {
          "output_type": "display_data",
          "data": {
            "text/plain": [
              "<Figure size 432x288 with 0 Axes>"
            ]
          },
          "metadata": {
            "tags": []
          }
        },
        {
          "output_type": "display_data",
          "data": {
            "text/plain": [
              "<Figure size 432x288 with 0 Axes>"
            ]
          },
          "metadata": {
            "tags": []
          }
        },
        {
          "output_type": "display_data",
          "data": {
            "text/plain": [
              "<Figure size 432x288 with 0 Axes>"
            ]
          },
          "metadata": {
            "tags": []
          }
        },
        {
          "output_type": "display_data",
          "data": {
            "text/plain": [
              "<Figure size 432x288 with 0 Axes>"
            ]
          },
          "metadata": {
            "tags": []
          }
        },
        {
          "output_type": "display_data",
          "data": {
            "text/plain": [
              "<Figure size 432x288 with 0 Axes>"
            ]
          },
          "metadata": {
            "tags": []
          }
        },
        {
          "output_type": "display_data",
          "data": {
            "text/plain": [
              "<Figure size 432x288 with 0 Axes>"
            ]
          },
          "metadata": {
            "tags": []
          }
        },
        {
          "output_type": "display_data",
          "data": {
            "text/plain": [
              "<Figure size 432x288 with 0 Axes>"
            ]
          },
          "metadata": {
            "tags": []
          }
        },
        {
          "output_type": "display_data",
          "data": {
            "text/plain": [
              "<Figure size 432x288 with 0 Axes>"
            ]
          },
          "metadata": {
            "tags": []
          }
        },
        {
          "output_type": "display_data",
          "data": {
            "text/plain": [
              "<Figure size 432x288 with 0 Axes>"
            ]
          },
          "metadata": {
            "tags": []
          }
        },
        {
          "output_type": "display_data",
          "data": {
            "text/plain": [
              "<Figure size 432x288 with 0 Axes>"
            ]
          },
          "metadata": {
            "tags": []
          }
        },
        {
          "output_type": "display_data",
          "data": {
            "text/plain": [
              "<Figure size 432x288 with 0 Axes>"
            ]
          },
          "metadata": {
            "tags": []
          }
        },
        {
          "output_type": "display_data",
          "data": {
            "text/plain": [
              "<Figure size 432x288 with 0 Axes>"
            ]
          },
          "metadata": {
            "tags": []
          }
        },
        {
          "output_type": "display_data",
          "data": {
            "text/plain": [
              "<Figure size 432x288 with 0 Axes>"
            ]
          },
          "metadata": {
            "tags": []
          }
        },
        {
          "output_type": "display_data",
          "data": {
            "text/plain": [
              "<Figure size 432x288 with 0 Axes>"
            ]
          },
          "metadata": {
            "tags": []
          }
        },
        {
          "output_type": "display_data",
          "data": {
            "text/plain": [
              "<Figure size 432x288 with 0 Axes>"
            ]
          },
          "metadata": {
            "tags": []
          }
        },
        {
          "output_type": "display_data",
          "data": {
            "text/plain": [
              "<Figure size 432x288 with 0 Axes>"
            ]
          },
          "metadata": {
            "tags": []
          }
        },
        {
          "output_type": "display_data",
          "data": {
            "text/plain": [
              "<Figure size 432x288 with 0 Axes>"
            ]
          },
          "metadata": {
            "tags": []
          }
        },
        {
          "output_type": "display_data",
          "data": {
            "text/plain": [
              "<Figure size 432x288 with 0 Axes>"
            ]
          },
          "metadata": {
            "tags": []
          }
        },
        {
          "output_type": "display_data",
          "data": {
            "text/plain": [
              "<Figure size 432x288 with 0 Axes>"
            ]
          },
          "metadata": {
            "tags": []
          }
        }
      ]
    },
    {
      "cell_type": "code",
      "metadata": {
        "id": "Sy1F3XYqzRxJ",
        "colab_type": "code",
        "outputId": "7d88092b-3979-4428-dc41-9892fc291cb1",
        "colab": {
          "base_uri": "https://localhost:8080/",
          "height": 248
        }
      },
      "source": [
        "from PIL import Image\n",
        " \n",
        "import matplotlib.pyplot as plt\n",
        "import matplotlib.animation as animation\n",
        " \n",
        "picList  =[]\n",
        "for i in range(fig_num) :\n",
        "    picList.append(str(i)+\".png\")\n",
        "     \n",
        "#figオブジェクトの作成\n",
        "fig = plt.figure()\n",
        "\n",
        "#figオブジェクトから目盛り線などを消す\n",
        "plt.axis('off')\n",
        "     \n",
        "ims = []\n",
        "     \n",
        "#画像ファイルを空のリストの中に1枚ずつ読み込み\n",
        "for i in range(len(picList)):\n",
        "         \n",
        "    #読み込んで付け加えていく\n",
        "    tmp = Image.open(picList[i])\n",
        "    ims.append([plt.imshow(tmp)])     \n",
        "     \n",
        "ani = animation.ArtistAnimation(fig, ims, interval=300, repeat_delay=3000)\n",
        " \n",
        "#アニメーション保存。\n",
        "ani.save('0_measurement.gif', writer='pillow')"
      ],
      "execution_count": 0,
      "outputs": [
        {
          "output_type": "display_data",
          "data": {
            "image/png": "[encoded data removed]",
            "text/plain": [
              "<Figure size 432x288 with 1 Axes>"
            ]
          },
          "metadata": {
            "tags": [],
            "needs_background": "light"
          }
        }
      ]
    },
    {
      "cell_type": "code",
      "metadata": {
        "id": "VHF7IR9ptUeb",
        "colab_type": "code",
        "colab": {}
      },
      "source": [
        ""
      ],
      "execution_count": 0,
      "outputs": []
    }
  ]
}