{
  "nbformat": 4,
  "nbformat_minor": 0,
  "metadata": {
    "colab": {
      "name": "3pich_man_ani.ipynb",
      "provenance": [],
      "include_colab_link": true
    },
    "kernelspec": {
      "name": "python3",
      "display_name": "Python 3"
    }
  },
  "cells": [
    {
      "cell_type": "markdown",
      "metadata": {
        "id": "view-in-github",
        "colab_type": "text"
      },
      "source": [
        "<a href=\"https://colab.research.google.com/github/Nao-Ishi/pray_py/blob/master/3pich_man_ani.ipynb\" target=\"_parent\"><img src=\"https://colab.research.google.com/assets/colab-badge.svg\" alt=\"Open In Colab\"/></a>"
      ]
    },
    {
      "cell_type": "code",
      "metadata": {
        "id": "h7DawavP2RyN",
        "colab_type": "code",
        "outputId": "26a31c3b-82ec-45e4-8915-0eefa0514499",
        "colab": {
          "base_uri": "https://localhost:8080/",
          "height": 71
        }
      },
      "source": [
        "!pip install pillow"
      ],
      "execution_count": 0,
      "outputs": [
        {
          "output_type": "stream",
          "text": [
            "Requirement already satisfied: pillow in /usr/local/lib/python3.6/dist-packages (4.3.0)\n",
            "Requirement already satisfied: olefile in /usr/local/lib/python3.6/dist-packages (from pillow) (0.46)\n"
          ],
          "name": "stdout"
        }
      ]
    },
    {
      "cell_type": "code",
      "metadata": {
        "id": "Zd1BqK_f2cTU",
        "colab_type": "code",
        "colab": {}
      },
      "source": [
        "import numpy as np\n",
        "import matplotlib.pyplot as plt\n",
        "import matplotlib.animation as animation\n",
        "from matplotlib.animation import PillowWriter\n",
        "import math"
      ],
      "execution_count": 0,
      "outputs": []
    },
    {
      "cell_type": "code",
      "metadata": {
        "id": "83ahYNY92gGU",
        "colab_type": "code",
        "outputId": "f855bd04-fff9-4c14-8921-f9eeafc96708",
        "colab": {
          "base_uri": "https://localhost:8080/",
          "height": 248
        }
      },
      "source": [
        "import matplotlib.patches as patches\n",
        "###############################\n",
        "#キャンパス設定\n",
        "\n",
        "fig = plt.figure()\n",
        "#plt.cla()\n",
        "#plt.subplots_adjust(left=None, bottom=None, right=None, top=None, wspace=1.0, hspace=1.0)\n",
        "ax = fig.add_subplot(1,2,1)\n",
        "ax2 = fig.add_subplot(1,2,2)\n",
        "\n",
        "Mx=650\n",
        "mx=-350\n",
        "My=500\n",
        "my=-500\n",
        "\n",
        "ax.set_xlim(mx,Mx)\n",
        "ax.set_ylim(my,My)\n",
        "ax.set_aspect('equal')\n",
        "\n",
        "ax.set_xlabel('X [mm]')\n",
        "ax.set_ylabel('Y [mm]')\n",
        "\n",
        "ax.grid(True)\n",
        "\n",
        "ax.legend()\n",
        "################################\n",
        "\n",
        "cir_r = 450\n",
        "cir_x = 500\n",
        "cir_y = -450\n",
        "\n",
        "rect_w = 100\n",
        "rect_h = 200\n",
        "rect_x = 400\n",
        "rect_y = -458\n",
        "\n",
        "################################\n",
        "#   _________\n",
        "#   |       |\n",
        "#   |       |\n",
        "#   |       |\n",
        "#   |   .   |   (x,y)\n",
        "#   ^^^^^^^^^\n",
        "################################\n",
        "\n",
        "c = patches.Circle(xy=(cir_x, cir_y), radius=cir_r, ec='b', ls='--',fill=False)\n",
        "r = patches.Rectangle(xy=(rect_x-(rect_w/2), rect_y), width=rect_w, height=rect_h)\n",
        "ax.add_patch(c)\n",
        "ax.add_patch(r)\n",
        "\n",
        "Mx=2\n",
        "mx=-2\n",
        "My=1\n",
        "my=-1\n",
        "\n",
        "ax2.set_xlim(mx,Mx)\n",
        "ax2.set_ylim(my,My)\n",
        "ax2.set_aspect('equal')\n",
        "\n",
        "#ax2.set_xlabel('X [mm]')\n",
        "#ax2.set_ylabel('Y [mm]')\n",
        "\n",
        "#ax.grid(True)\n",
        "\n",
        "ax2.legend()\n",
        "\n",
        "r = patches.Rectangle(xy=(-1.25,-0.5 ), width=0.5, height=0.75, fill=False)\n",
        "ax2.add_patch(r)\n",
        "r = patches.Rectangle(xy=(-0.25,-0.5 ), width=0.5, height=0.75, fill=False)\n",
        "ax2.add_patch(r)\n",
        "r = patches.Rectangle(xy=(0.75,-0.5 ), width=0.5, height=0.75, fill=False)\n",
        "ax2.add_patch(r)\n",
        "\n",
        "\n",
        "#step_test = ax.plot(0.05,0.9,'',transform=ax.transAxes)\n",
        "plt.show()"
      ],
      "execution_count": 0,
      "outputs": [
        {
          "output_type": "stream",
          "text": [
            "No handles with labels found to put in legend.\n",
            "No handles with labels found to put in legend.\n"
          ],
          "name": "stderr"
        },
        {
          "output_type": "display_data",
          "data": {
            "image/png": "[encoded data removed]",
            "text/plain": [
              "<Figure size 432x288 with 2 Axes>"
            ]
          },
          "metadata": {
            "tags": []
          }
        }
      ]
    },
    {
      "cell_type": "code",
      "metadata": {
        "id": "dMdnsHwm3AnK",
        "colab_type": "code",
        "colab": {}
      },
      "source": [
        "T = np.arange(110.0,160.0)\n",
        "tag, = ax.plot([0], [0], 'yo')\n",
        "p1, = ax.plot([0], [0], 'bo')\n",
        "p2, = ax.plot([0], [0], 'ro')\n",
        "p3, = ax.plot([0], [0], 'go')\n",
        "l1, = ax.plot([0, 0], [0, 0], 'g')\n",
        "l1_, = ax2.plot([0, 0], [0, 0], 'g')\n",
        "l2, = ax.plot([0, 0], [0, 0], 'b')\n",
        "l2_, = ax2.plot([0, 0], [0, 0], 'b')\n",
        "l3, = ax.plot([0, 0], [0, 0], 'r')\n",
        "l3_, = ax2.plot([0, 0], [0, 0], 'r')\n",
        "L1 = 150\n",
        "L2 = 250\n",
        "PI = np.pi\n",
        "\n",
        "Sheta = np.array([[0.0]*3 for i in range(len(T))])\n",
        "\n",
        "def draw_ani(t):\n",
        "    at = np.radians(T[t])\n",
        "    xt = np.cos(at) * cir_r + cir_x\n",
        "    yt = np.sin(at) * cir_r + cir_y\n",
        "    ##########################\n",
        "    #https://so-zou.jp/robot/tech/kinematics/inverse-kinematics.htm#\n",
        "    alpha = np.arccos(\n",
        "        ((-1)*(xt*xt+yt*yt)+L2*L2+L1*L1)\n",
        "        /(2*L1*L2)\n",
        "    )\n",
        "    \n",
        "    beta = np.arccos(\n",
        "        ((-1)*(L2*L2)+(L1*L1)+(xt*xt+yt*yt))\n",
        "        /(2*L1*np.sqrt(xt*xt+yt*yt))\n",
        "    )\n",
        "    sheta1 = np.arctan2(yt,xt)-beta\n",
        "    sheta2 = (PI - alpha)\n",
        "    ##########################\n",
        "    xp1 = np.cos(sheta1)*L1\n",
        "    yp1 = np.sin(sheta1)*L1\n",
        "    p1.set_data(xp1,yp1)\n",
        "\n",
        "    xp2 = np.cos(sheta1+sheta2)*L2\n",
        "    yp2 = np.sin(sheta1+sheta2)*L2\n",
        "    p2.set_data(xp1+xp2,yp1+yp2)\n",
        "\n",
        "    sheta3 = np.arctan2(\n",
        "        (-yp1-yp2+rect_y+rect_h/2)\n",
        "        ,(-xp1-xp2+rect_x)\n",
        "    )\n",
        "    xp3 = np.cos(sheta3)*100\n",
        "    yp3 = np.sin(sheta3)*100\n",
        "    ##########################\n",
        "    \n",
        "    tag.set_data(xt, yt)\n",
        "    l1.set_data([0,xp1],[0,yp1])\n",
        "    l2.set_data([xp1,xp1+xp2],[yp1,yp1+yp2])\n",
        "    l3.set_data([xp1+xp2,xp1+xp2+xp3],[yp1+yp2,yp1+yp2+yp3])\n",
        "    ##########################\n",
        "    \n",
        "    xp1 = np.cos(sheta1+(PI/4))*0.5-1\n",
        "    yp1 = np.sin(sheta1+(PI/4))*0.5\n",
        "    l1_.set_data([-1,xp1],[0,yp1])\n",
        "\n",
        "    xp2 = np.cos(sheta2-(PI/4))*0.5\n",
        "    yp2 = np.sin(sheta2-(PI/4))*0.5\n",
        "    l2_.set_data([0,xp2],[0,yp2])\n",
        "\n",
        "    xp3 = np.cos(sheta3*2)*0.5+1\n",
        "    yp3 = np.sin(sheta3*2)*0.5\n",
        "    l3_.set_data([1,xp3],[0,yp3])\n",
        "    ##########################\n",
        "    Sheta[t][0]=sheta1+(PI/4)\n",
        "    Sheta[t][1]=sheta2-(PI/4)\n",
        "    Sheta[t][2]=sheta3*2+(PI/2)\n",
        "    return tag, #p1, p2, p3, l1, l2, l3, l1_,\n",
        "\n",
        "#アニメーションの描画\n",
        "ani = animation.FuncAnimation(\n",
        "      fig,  # Figureオブジェクト\n",
        "      draw_ani,  # グラフ描画関数\n",
        "      frames = len(T),  # フレームを設定\n",
        "      interval = 100,  # 更新間隔(ms)\n",
        "      repeat = True,  # 描画を繰り返す\n",
        "      blit = True  # blitting による処理の高速化\n",
        "      )\n",
        "\n",
        "ani.save('normaldist_kde_anim.gif', writer='pillow')\n",
        "plt.show()"
      ],
      "execution_count": 0,
      "outputs": []
    },
    {
      "cell_type": "code",
      "metadata": {
        "id": "blXDwHqk8ABU",
        "colab_type": "code",
        "outputId": "37ba1d89-ad8f-4b6c-ff32-b73726f74888",
        "colab": {
          "base_uri": "https://localhost:8080/",
          "height": 867
        }
      },
      "source": [
        "Sheta_deg = np.array([[0.0]*3 for i in range(len(T))])\n",
        "Sheta_deg = Sheta*180/PI\n",
        "print(Sheta_deg)"
      ],
      "execution_count": 0,
      "outputs": [
        {
          "output_type": "stream",
          "text": [
            "[[  1.14961543  16.73573377 -71.49162655]\n",
            " [ -2.19145612  20.8919945  -68.84682622]\n",
            " [ -5.42815375  24.78355046 -66.18796339]\n",
            " [ -8.58583592  28.44790463 -63.51530515]\n",
            " [-11.68376231  31.91274372 -60.82914236]\n",
            " [-14.73689625  35.19890221 -58.12978978]\n",
            " [-17.7570247   38.32223704 -55.41758632]\n",
            " [-20.7534747   41.29486344 -52.69289498]\n",
            " [-23.73357839  44.12599795 -49.9561029 ]\n",
            " [-26.70297394  46.82255034 -47.20762116]\n",
            " [-29.66579561  49.38955017 -44.44788459]\n",
            " [-32.6247865   51.83046197 -41.67735141]\n",
            " [-35.58135678  54.14742425 -38.89650276]\n",
            " [-38.53560395  56.34143651 -36.10584219]\n",
            " [-41.48630819  58.41251107 -33.30589493]\n",
            " [-44.43091419  60.35980214 -30.49720718]\n",
            " [-47.36551012  62.18172158 -27.68034519]\n",
            " [-50.28481433  63.87604836 -24.85589424]\n",
            " [-53.18218026  65.44003747 -22.02445759]\n",
            " [-56.04963009  66.87053223 -19.18665527]\n",
            " [-58.87792661  68.16408281 -16.34312275]\n",
            " [-61.65669138  69.31707217 -13.49450957]\n",
            " [-64.37457436  70.32584893 -10.64147791]\n",
            " [-67.0194765   71.18686522  -7.78470097]\n",
            " [-69.5788217   71.89681563  -4.9248614 ]\n",
            " [-72.03986942  72.45277187  -2.06264964]\n",
            " [-74.39005357  72.85230678   0.80123784]\n",
            " [-76.61732921  73.09360067   3.66610029]\n",
            " [-78.71050573  73.17552313   6.53123445]\n",
            " [-80.65954485  73.09768492   9.39593635]\n",
            " [-82.4558042   72.86045596  12.25950315]\n",
            " [-84.09221181  72.46494817  15.12123491]\n",
            " [-85.56336287  71.91296455  17.98043638]\n",
            " [-86.86553765  71.20691794  20.83641877]\n",
            " [-87.99664547  70.3497253   23.68850142]\n",
            " [-88.95610531  69.34468405  26.5360135 ]\n",
            " [-89.74467707  68.19533758  29.3782956 ]\n",
            " [-90.36425863  66.90533635  32.21470125]\n",
            " [-90.81766382  65.47829997  35.04459837]\n",
            " [-91.10839431  63.91768414  37.86737067]\n",
            " [-91.24041583  62.22665455  40.68241888]\n",
            " [-91.21794577  60.40796815  43.48916196]\n",
            " [-91.0452565   58.46386075  46.28703816]\n",
            " [-90.72649546  56.39593803  49.07550599]\n",
            " [-90.26552082  54.20506614  51.85404509]\n",
            " [-89.66574946  51.89125626  54.62215698]\n",
            " [-88.93001191  49.4535359   57.37936568]\n",
            " [-88.06040718  46.88979784  60.1252183 ]\n",
            " [-87.05814829  44.19661419  62.85928539]\n",
            " [-85.92338634  41.36899892  65.58116131]]\n"
          ],
          "name": "stdout"
        }
      ]
    },
    {
      "cell_type": "code",
      "metadata": {
        "id": "MSRF6-l7_OW8",
        "colab_type": "code",
        "outputId": "570c6b9b-956d-4246-85cd-569dbc5ef541",
        "colab": {
          "base_uri": "https://localhost:8080/",
          "height": 867
        }
      },
      "source": [
        "Sheta_krs = np.array([[0.0]*3 for i in range(len(T))])\n",
        "Sheta_krs_i = np.array([[0]*3 for i in range(len(T))])\n",
        "Sheta_krs = (Sheta_deg+135)/270*8000+3500\n",
        "#print(Sheta_krs)\n",
        "for i in range(len(Sheta_krs)):\n",
        "  for j in range(len(Sheta_krs[0])):\n",
        "    if (j == 2):\n",
        "      Sheta_krs_i[i][j] = (int(Sheta_krs[i][j])-7500) * (-1) + 7500\n",
        "    else :\n",
        "      Sheta_krs_i[i][j] = int(Sheta_krs[i][j])\n",
        "print(Sheta_krs_i)"
      ],
      "execution_count": 0,
      "outputs": [
        {
          "output_type": "stream",
          "text": [
            "[[7534 7995 9619]\n",
            " [7435 8119 9540]\n",
            " [7339 8234 9462]\n",
            " [7245 8342 9382]\n",
            " [7153 8445 9303]\n",
            " [7063 8542 9223]\n",
            " [6973 8635 9143]\n",
            " [6885 8723 9062]\n",
            " [6796 8807 8981]\n",
            " [6708 8887 8899]\n",
            " [6621 8963 8817]\n",
            " [6533 9035 8735]\n",
            " [6445 9104 8653]\n",
            " [6358 9169 8570]\n",
            " [6270 9230 8487]\n",
            " [6183 9288 8404]\n",
            " [6096 9342 8321]\n",
            " [6010 9392 8237]\n",
            " [5924 9438 8153]\n",
            " [5839 9481 8069]\n",
            " [5755 9519 7985]\n",
            " [5673 9553 7900]\n",
            " [5592 9583 7816]\n",
            " [5514 9609 7731]\n",
            " [5438 9630 7646]\n",
            " [5365 9646 7562]\n",
            " [5295 9658 7477]\n",
            " [5229 9665 7392]\n",
            " [5167 9668 7307]\n",
            " [5110 9665 7222]\n",
            " [5056 9658 7137]\n",
            " [5008 9647 7052]\n",
            " [4964 9630 6968]\n",
            " [4926 9609 6883]\n",
            " [4892 9584 6799]\n",
            " [4864 9554 6714]\n",
            " [4840 9520 6630]\n",
            " [4822 9482 6546]\n",
            " [4809 9440 6462]\n",
            " [4800 9393 6379]\n",
            " [4796 9343 6295]\n",
            " [4797 9289 6212]\n",
            " [4802 9232 6129]\n",
            " [4811 9170 6046]\n",
            " [4825 9106 5964]\n",
            " [4843 9037 5882]\n",
            " [4865 8965 5800]\n",
            " [4890 8889 5719]\n",
            " [4920 8809 5638]\n",
            " [4954 8725 5557]]\n"
          ],
          "name": "stdout"
        }
      ]
    },
    {
      "cell_type": "code",
      "metadata": {
        "id": "jTOm3T47ADDE",
        "colab_type": "code",
        "outputId": "295ca34a-d8f8-455c-85d1-057e8e00c1ed",
        "colab": {
          "base_uri": "https://localhost:8080/",
          "height": 884
        }
      },
      "source": [
        "path = 'angs.txt'\n",
        "\n",
        "head = 'unsigned int angs[' + str(len(Sheta_krs_i)) + '][3] = {\\n'\n",
        "bottom = '};'\n",
        "\n",
        "with open(path, mode='w') as f:\n",
        "  pass\n",
        "\n",
        "with open(path, mode='a') as f:\n",
        "  f.write(head)\n",
        "  for i in range(len(Sheta_krs_i)):\n",
        "    f.write('{')\n",
        "    for j in range(len(Sheta_krs_i[0])):\n",
        "      f.write(str(Sheta_krs_i[i][j]))\n",
        "      if(j != 2):\n",
        "        f.write(',')\n",
        "    f.write('}')\n",
        "    if(i != len(Sheta_krs_i)-1):\n",
        "      f.write(',\\n')\n",
        "  f.write(bottom)\n",
        "\n",
        "with open(path) as f:\n",
        "  print(f.read())\n"
      ],
      "execution_count": 0,
      "outputs": [
        {
          "output_type": "stream",
          "text": [
            "unsigned int angs[50][3] = {\n",
            "{7534,7995,9619},\n",
            "{7435,8119,9540},\n",
            "{7339,8234,9462},\n",
            "{7245,8342,9382},\n",
            "{7153,8445,9303},\n",
            "{7063,8542,9223},\n",
            "{6973,8635,9143},\n",
            "{6885,8723,9062},\n",
            "{6796,8807,8981},\n",
            "{6708,8887,8899},\n",
            "{6621,8963,8817},\n",
            "{6533,9035,8735},\n",
            "{6445,9104,8653},\n",
            "{6358,9169,8570},\n",
            "{6270,9230,8487},\n",
            "{6183,9288,8404},\n",
            "{6096,9342,8321},\n",
            "{6010,9392,8237},\n",
            "{5924,9438,8153},\n",
            "{5839,9481,8069},\n",
            "{5755,9519,7985},\n",
            "{5673,9553,7900},\n",
            "{5592,9583,7816},\n",
            "{5514,9609,7731},\n",
            "{5438,9630,7646},\n",
            "{5365,9646,7562},\n",
            "{5295,9658,7477},\n",
            "{5229,9665,7392},\n",
            "{5167,9668,7307},\n",
            "{5110,9665,7222},\n",
            "{5056,9658,7137},\n",
            "{5008,9647,7052},\n",
            "{4964,9630,6968},\n",
            "{4926,9609,6883},\n",
            "{4892,9584,6799},\n",
            "{4864,9554,6714},\n",
            "{4840,9520,6630},\n",
            "{4822,9482,6546},\n",
            "{4809,9440,6462},\n",
            "{4800,9393,6379},\n",
            "{4796,9343,6295},\n",
            "{4797,9289,6212},\n",
            "{4802,9232,6129},\n",
            "{4811,9170,6046},\n",
            "{4825,9106,5964},\n",
            "{4843,9037,5882},\n",
            "{4865,8965,5800},\n",
            "{4890,8889,5719},\n",
            "{4920,8809,5638},\n",
            "{4954,8725,5557}};\n"
          ],
          "name": "stdout"
        }
      ]
    },
    {
      "cell_type": "code",
      "metadata": {
        "id": "gx-7mvHRMbMU",
        "colab_type": "code",
        "colab": {}
      },
      "source": [
        ""
      ],
      "execution_count": 0,
      "outputs": []
    }
  ]
}