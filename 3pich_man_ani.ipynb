{
  "nbformat": 4,
  "nbformat_minor": 0,
  "metadata": {
    "colab": {
      "name": "3pich_man_ani.ipynb",
      "provenance": [],
      "include_colab_link": true
    },
    "kernelspec": {
      "name": "python3",
      "display_name": "Python 3"
    }
  },
  "cells": [
    {
      "cell_type": "markdown",
      "metadata": {
        "id": "view-in-github",
        "colab_type": "text"
      },
      "source": [
        "<a href=\"https://colab.research.google.com/github/Nao-Ishi/pray_py/blob/master/3pich_man_ani.ipynb\" target=\"_parent\"><img src=\"https://colab.research.google.com/assets/colab-badge.svg\" alt=\"Open In Colab\"/></a>"
      ]
    },
    {
      "cell_type": "code",
      "metadata": {
        "id": "h7DawavP2RyN",
        "colab_type": "code",
        "colab": {
          "base_uri": "https://localhost:8080/",
          "height": 71
        },
        "outputId": "a6aebcf6-8012-469c-cd13-8373508e2271"
      },
      "source": [
        "!pip install pillow"
      ],
      "execution_count": 1,
      "outputs": [
        {
          "output_type": "stream",
          "text": [
            "Requirement already satisfied: pillow in /usr/local/lib/python3.6/dist-packages (4.3.0)\n",
            "Requirement already satisfied: olefile in /usr/local/lib/python3.6/dist-packages (from pillow) (0.46)\n"
          ],
          "name": "stdout"
        }
      ]
    },
    {
      "cell_type": "code",
      "metadata": {
        "id": "Zd1BqK_f2cTU",
        "colab_type": "code",
        "colab": {}
      },
      "source": [
        "import numpy as np\n",
        "import matplotlib.pyplot as plt\n",
        "import matplotlib.animation as animation\n",
        "from matplotlib.animation import PillowWriter\n",
        "import math"
      ],
      "execution_count": 0,
      "outputs": []
    },
    {
      "cell_type": "code",
      "metadata": {
        "id": "83ahYNY92gGU",
        "colab_type": "code",
        "colab": {
          "base_uri": "https://localhost:8080/",
          "height": 248
        },
        "outputId": "8f8aff61-59b5-48ef-f22b-619404eb10b7"
      },
      "source": [
        "import matplotlib.patches as patches\n",
        "###############################\n",
        "#キャンパス設定\n",
        "\n",
        "fig = plt.figure()\n",
        "#plt.cla()\n",
        "#plt.subplots_adjust(left=None, bottom=None, right=None, top=None, wspace=1.0, hspace=1.0)\n",
        "ax = fig.add_subplot(1,2,1)\n",
        "ax2 = fig.add_subplot(1,2,2)\n",
        "\n",
        "Mx=650\n",
        "mx=-350\n",
        "My=500\n",
        "my=-500\n",
        "\n",
        "ax.set_xlim(mx,Mx)\n",
        "ax.set_ylim(my,My)\n",
        "ax.set_aspect('equal')\n",
        "\n",
        "ax.set_xlabel('X [mm]')\n",
        "ax.set_ylabel('Y [mm]')\n",
        "\n",
        "ax.grid(True)\n",
        "\n",
        "ax.legend()\n",
        "################################\n",
        "\n",
        "cir_r = 450\n",
        "cir_x = 600\n",
        "cir_y = -150\n",
        "\n",
        "rect_w = 100\n",
        "rect_h = 200\n",
        "rect_x = 400\n",
        "rect_y = -150\n",
        "\n",
        "################################\n",
        "#   _________\n",
        "#   |       |\n",
        "#   |       |\n",
        "#   |       |\n",
        "#   |   .   |   (x,y)\n",
        "#   ^^^^^^^^^\n",
        "################################\n",
        "\n",
        "c = patches.Circle(xy=(cir_x, cir_y), radius=cir_r, ec='b', ls='--',fill=False)\n",
        "r = patches.Rectangle(xy=(rect_x-(rect_w/2), rect_y), width=rect_w, height=rect_h)\n",
        "ax.add_patch(c)\n",
        "ax.add_patch(r)\n",
        "\n",
        "Mx=2\n",
        "mx=-2\n",
        "My=1\n",
        "my=-1\n",
        "\n",
        "ax2.set_xlim(mx,Mx)\n",
        "ax2.set_ylim(my,My)\n",
        "ax2.set_aspect('equal')\n",
        "\n",
        "#ax2.set_xlabel('X [mm]')\n",
        "#ax2.set_ylabel('Y [mm]')\n",
        "\n",
        "#ax.grid(True)\n",
        "\n",
        "ax2.legend()\n",
        "\n",
        "r = patches.Rectangle(xy=(-1.25,-0.5 ), width=0.5, height=0.75, fill=False)\n",
        "ax2.add_patch(r)\n",
        "r = patches.Rectangle(xy=(-0.25,-0.5 ), width=0.5, height=0.75, fill=False)\n",
        "ax2.add_patch(r)\n",
        "r = patches.Rectangle(xy=(0.75,-0.5 ), width=0.5, height=0.75, fill=False)\n",
        "ax2.add_patch(r)\n",
        "\n",
        "\n",
        "#step_test = ax.plot(0.05,0.9,'',transform=ax.transAxes)\n",
        "plt.show()"
      ],
      "execution_count": 23,
      "outputs": [
        {
          "output_type": "stream",
          "text": [
            "No handles with labels found to put in legend.\n",
            "No handles with labels found to put in legend.\n"
          ],
          "name": "stderr"
        },
        {
          "output_type": "display_data",
          "data": {
            "image/png": "[encoded data removed]",
            "text/plain": [
              "<Figure size 432x288 with 2 Axes>"
            ]
          },
          "metadata": {
            "tags": []
          }
        }
      ]
    },
    {
      "cell_type": "code",
      "metadata": {
        "id": "dMdnsHwm3AnK",
        "colab_type": "code",
        "colab": {}
      },
      "source": [
        "T = np.arange(130.0,195.0)\n",
        "tag, = ax.plot([0], [0], 'yo')\n",
        "p1, = ax.plot([0], [0], 'bo')\n",
        "p2, = ax.plot([0], [0], 'ro')\n",
        "p3, = ax.plot([0], [0], 'go')\n",
        "l1, = ax.plot([0, 0], [0, 0], 'g')\n",
        "l1_, = ax2.plot([0, 0], [0, 0], 'g')\n",
        "l2, = ax.plot([0, 0], [0, 0], 'b')\n",
        "l2_, = ax2.plot([0, 0], [0, 0], 'b')\n",
        "l3, = ax.plot([0, 0], [0, 0], 'r')\n",
        "l3_, = ax2.plot([0, 0], [0, 0], 'r')\n",
        "L1 = 150\n",
        "L2 = 250\n",
        "PI = np.pi\n",
        "\n",
        "Sheta = np.array([[0.0]*3 for i in range(len(T))])\n",
        "\n",
        "def draw_ani(t):\n",
        "    at = np.radians(T[t])\n",
        "    xt = np.cos(at) * cir_r + cir_x\n",
        "    yt = np.sin(at) * cir_r + cir_y\n",
        "    ##########################\n",
        "    #https://so-zou.jp/robot/tech/kinematics/inverse-kinematics.htm#\n",
        "    alpha = np.arccos(\n",
        "        ((-1)*(xt*xt+yt*yt)+L2*L2+L1*L1)\n",
        "        /(2*L1*L2)\n",
        "    )\n",
        "    \n",
        "    beta = np.arccos(\n",
        "        ((-1)*(L2*L2)+(L1*L1)+(xt*xt+yt*yt))\n",
        "        /(2*L1*np.sqrt(xt*xt+yt*yt))\n",
        "    )\n",
        "    sheta1 = np.arctan2(yt,xt)-beta\n",
        "    sheta2 = (PI - alpha)\n",
        "    ##########################\n",
        "    xp1 = np.cos(sheta1)*L1\n",
        "    yp1 = np.sin(sheta1)*L1\n",
        "    p1.set_data(xp1,yp1)\n",
        "\n",
        "    xp2 = np.cos(sheta1+sheta2)*L2\n",
        "    yp2 = np.sin(sheta1+sheta2)*L2\n",
        "    p2.set_data(xp1+xp2,yp1+yp2)\n",
        "\n",
        "    sheta3 = np.arctan2(\n",
        "        (-yp1-yp2+rect_y+rect_h/2)\n",
        "        ,(-xp1-xp2+rect_x)\n",
        "    )\n",
        "    xp3 = np.cos(sheta3)*100\n",
        "    yp3 = np.sin(sheta3)*100\n",
        "    ##########################\n",
        "    \n",
        "    tag.set_data(xt, yt)\n",
        "    l1.set_data([0,xp1],[0,yp1])\n",
        "    l2.set_data([xp1,xp1+xp2],[yp1,yp1+yp2])\n",
        "    l3.set_data([xp1+xp2,xp1+xp2+xp3],[yp1+yp2,yp1+yp2+yp3])\n",
        "    ##########################\n",
        "    \n",
        "    xp1 = np.cos(sheta1)*0.5-1\n",
        "    yp1 = np.sin(sheta1)*0.5\n",
        "    l1_.set_data([-1,xp1],[0,yp1])\n",
        "\n",
        "    xp2 = np.cos(sheta2)*0.5\n",
        "    yp2 = np.sin(sheta2)*0.5\n",
        "    l2_.set_data([0,xp2],[0,yp2])\n",
        "\n",
        "    xp3 = np.cos(sheta3)*0.5+1\n",
        "    yp3 = np.sin(sheta3)*0.5\n",
        "    l3_.set_data([1,xp3],[0,yp3])\n",
        "    ##########################\n",
        "    Sheta[t][0]=sheta1\n",
        "    Sheta[t][1]=sheta2\n",
        "    Sheta[t][2]=sheta3\n",
        "    return tag, #p1, p2, p3, l1, l2, l3, l1_,\n",
        "  \n",
        "ani = animation.FuncAnimation(\n",
        "      fig,  # Figureオブジェクト\n",
        "      draw_ani,  # グラフ描画関数\n",
        "      frames = len(T),  # フレームを設定\n",
        "      interval = 100,  # 更新間隔(ms)\n",
        "      repeat = True,  # 描画を繰り返す\n",
        "      blit = True  # blitting による処理の高速化\n",
        "      )\n",
        "\n",
        "ani.save('normaldist_kde_anim.gif', writer='pillow')"
      ],
      "execution_count": 0,
      "outputs": []
    },
    {
      "cell_type": "code",
      "metadata": {
        "id": "blXDwHqk8ABU",
        "colab_type": "code",
        "colab": {}
      },
      "source": [
        ""
      ],
      "execution_count": 0,
      "outputs": []
    }
  ]
}