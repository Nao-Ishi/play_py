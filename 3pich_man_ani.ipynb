{
  "nbformat": 4,
  "nbformat_minor": 0,
  "metadata": {
    "colab": {
      "name": "3pich_man_ani.ipynb",
      "provenance": [],
      "include_colab_link": true
    },
    "kernelspec": {
      "name": "python3",
      "display_name": "Python 3"
    }
  },
  "cells": [
    {
      "cell_type": "markdown",
      "metadata": {
        "id": "view-in-github",
        "colab_type": "text"
      },
      "source": [
        "<a href=\"https://colab.research.google.com/github/Nao-Ishi/pray_py/blob/master/3pich_man_ani.ipynb\" target=\"_parent\"><img src=\"https://colab.research.google.com/assets/colab-badge.svg\" alt=\"Open In Colab\"/></a>"
      ]
    },
    {
      "cell_type": "code",
      "metadata": {
        "id": "h7DawavP2RyN",
        "colab_type": "code",
        "outputId": "b5d4bf4f-119c-4d6c-f3c5-32c179245e6f",
        "colab": {
          "base_uri": "https://localhost:8080/",
          "height": 51
        }
      },
      "source": [
        "!pip install pillow"
      ],
      "execution_count": 1,
      "outputs": [
        {
          "output_type": "stream",
          "text": [
            "Requirement already satisfied: pillow in /usr/local/lib/python3.6/dist-packages (4.3.0)\n",
            "Requirement already satisfied: olefile in /usr/local/lib/python3.6/dist-packages (from pillow) (0.46)\n"
          ],
          "name": "stdout"
        }
      ]
    },
    {
      "cell_type": "code",
      "metadata": {
        "id": "Zd1BqK_f2cTU",
        "colab_type": "code",
        "colab": {}
      },
      "source": [
        "import numpy as np\n",
        "import matplotlib.pyplot as plt\n",
        "import matplotlib.animation as animation\n",
        "from matplotlib.animation import PillowWriter\n",
        "import math"
      ],
      "execution_count": 0,
      "outputs": []
    },
    {
      "cell_type": "code",
      "metadata": {
        "id": "83ahYNY92gGU",
        "colab_type": "code",
        "outputId": "6c25a261-3db7-4fdc-9737-b784bf22b917",
        "colab": {
          "base_uri": "https://localhost:8080/",
          "height": 248
        }
      },
      "source": [
        "import matplotlib.patches as patches\n",
        "###############################\n",
        "#キャンパス設定\n",
        "\n",
        "fig = plt.figure()\n",
        "#plt.cla()\n",
        "#plt.subplots_adjust(left=None, bottom=None, right=None, top=None, wspace=1.0, hspace=1.0)\n",
        "ax = fig.add_subplot(1,2,1)\n",
        "ax2 = fig.add_subplot(1,2,2)\n",
        "\n",
        "Mx=650\n",
        "mx=-350\n",
        "My=500\n",
        "my=-500\n",
        "\n",
        "ax.set_xlim(mx,Mx)\n",
        "ax.set_ylim(my,My)\n",
        "ax.set_aspect('equal')\n",
        "\n",
        "ax.set_xlabel('X [mm]')\n",
        "ax.set_ylabel('Y [mm]')\n",
        "\n",
        "ax.grid(True)\n",
        "\n",
        "ax.legend()\n",
        "################################\n",
        "\n",
        "cir_r = 450\n",
        "cir_x = 600\n",
        "cir_y = -150\n",
        "\n",
        "rect_w = 100\n",
        "rect_h = 200\n",
        "rect_x = 400\n",
        "rect_y = -150\n",
        "\n",
        "################################\n",
        "#   _________\n",
        "#   |       |\n",
        "#   |       |\n",
        "#   |       |\n",
        "#   |   .   |   (x,y)\n",
        "#   ^^^^^^^^^\n",
        "################################\n",
        "\n",
        "c = patches.Circle(xy=(cir_x, cir_y), radius=cir_r, ec='b', ls='--',fill=False)\n",
        "r = patches.Rectangle(xy=(rect_x-(rect_w/2), rect_y), width=rect_w, height=rect_h)\n",
        "ax.add_patch(c)\n",
        "ax.add_patch(r)\n",
        "\n",
        "Mx=2\n",
        "mx=-2\n",
        "My=1\n",
        "my=-1\n",
        "\n",
        "ax2.set_xlim(mx,Mx)\n",
        "ax2.set_ylim(my,My)\n",
        "ax2.set_aspect('equal')\n",
        "\n",
        "#ax2.set_xlabel('X [mm]')\n",
        "#ax2.set_ylabel('Y [mm]')\n",
        "\n",
        "#ax.grid(True)\n",
        "\n",
        "ax2.legend()\n",
        "\n",
        "r = patches.Rectangle(xy=(-1.25,-0.5 ), width=0.5, height=0.75, fill=False)\n",
        "ax2.add_patch(r)\n",
        "r = patches.Rectangle(xy=(-0.25,-0.5 ), width=0.5, height=0.75, fill=False)\n",
        "ax2.add_patch(r)\n",
        "r = patches.Rectangle(xy=(0.75,-0.5 ), width=0.5, height=0.75, fill=False)\n",
        "ax2.add_patch(r)\n",
        "\n",
        "\n",
        "#step_test = ax.plot(0.05,0.9,'',transform=ax.transAxes)\n",
        "plt.show()"
      ],
      "execution_count": 3,
      "outputs": [
        {
          "output_type": "stream",
          "text": [
            "No handles with labels found to put in legend.\n",
            "No handles with labels found to put in legend.\n"
          ],
          "name": "stderr"
        },
        {
          "output_type": "display_data",
          "data": {
            "image/png": "[encoded data removed]",
            "text/plain": [
              "<Figure size 432x288 with 2 Axes>"
            ]
          },
          "metadata": {
            "tags": []
          }
        }
      ]
    },
    {
      "cell_type": "code",
      "metadata": {
        "id": "dMdnsHwm3AnK",
        "colab_type": "code",
        "colab": {}
      },
      "source": [
        "T = np.arange(130.0,195.0)\n",
        "tag, = ax.plot([0], [0], 'yo')\n",
        "p1, = ax.plot([0], [0], 'bo')\n",
        "p2, = ax.plot([0], [0], 'ro')\n",
        "p3, = ax.plot([0], [0], 'go')\n",
        "l1, = ax.plot([0, 0], [0, 0], 'g')\n",
        "l1_, = ax2.plot([0, 0], [0, 0], 'g')\n",
        "l2, = ax.plot([0, 0], [0, 0], 'b')\n",
        "l2_, = ax2.plot([0, 0], [0, 0], 'b')\n",
        "l3, = ax.plot([0, 0], [0, 0], 'r')\n",
        "l3_, = ax2.plot([0, 0], [0, 0], 'r')\n",
        "L1 = 150\n",
        "L2 = 250\n",
        "PI = np.pi\n",
        "\n",
        "Sheta = np.array([[0.0]*3 for i in range(len(T))])\n",
        "\n",
        "def draw_ani(t):\n",
        "    at = np.radians(T[t])\n",
        "    xt = np.cos(at) * cir_r + cir_x\n",
        "    yt = np.sin(at) * cir_r + cir_y\n",
        "    ##########################\n",
        "    #https://so-zou.jp/robot/tech/kinematics/inverse-kinematics.htm#\n",
        "    alpha = np.arccos(\n",
        "        ((-1)*(xt*xt+yt*yt)+L2*L2+L1*L1)\n",
        "        /(2*L1*L2)\n",
        "    )\n",
        "    \n",
        "    beta = np.arccos(\n",
        "        ((-1)*(L2*L2)+(L1*L1)+(xt*xt+yt*yt))\n",
        "        /(2*L1*np.sqrt(xt*xt+yt*yt))\n",
        "    )\n",
        "    sheta1 = np.arctan2(yt,xt)-beta\n",
        "    sheta2 = (PI - alpha)\n",
        "    ##########################\n",
        "    xp1 = np.cos(sheta1)*L1\n",
        "    yp1 = np.sin(sheta1)*L1\n",
        "    p1.set_data(xp1,yp1)\n",
        "\n",
        "    xp2 = np.cos(sheta1+sheta2)*L2\n",
        "    yp2 = np.sin(sheta1+sheta2)*L2\n",
        "    p2.set_data(xp1+xp2,yp1+yp2)\n",
        "\n",
        "    sheta3 = np.arctan2(\n",
        "        (-yp1-yp2+rect_y+rect_h/2)\n",
        "        ,(-xp1-xp2+rect_x)\n",
        "    )\n",
        "    xp3 = np.cos(sheta3)*100\n",
        "    yp3 = np.sin(sheta3)*100\n",
        "    ##########################\n",
        "    \n",
        "    tag.set_data(xt, yt)\n",
        "    l1.set_data([0,xp1],[0,yp1])\n",
        "    l2.set_data([xp1,xp1+xp2],[yp1,yp1+yp2])\n",
        "    l3.set_data([xp1+xp2,xp1+xp2+xp3],[yp1+yp2,yp1+yp2+yp3])\n",
        "    ##########################\n",
        "    \n",
        "    xp1 = np.cos(sheta1)*0.5-1\n",
        "    yp1 = np.sin(sheta1)*0.5\n",
        "    l1_.set_data([-1,xp1],[0,yp1])\n",
        "\n",
        "    xp2 = np.cos(sheta2)*0.5\n",
        "    yp2 = np.sin(sheta2)*0.5\n",
        "    l2_.set_data([0,xp2],[0,yp2])\n",
        "\n",
        "    xp3 = np.cos(sheta3)*0.5+1\n",
        "    yp3 = np.sin(sheta3)*0.5\n",
        "    l3_.set_data([1,xp3],[0,yp3])\n",
        "    ##########################\n",
        "    Sheta[t][0]=sheta1\n",
        "    Sheta[t][1]=sheta2-(PI/4)\n",
        "    Sheta[t][2]=sheta3\n",
        "    return tag, #p1, p2, p3, l1, l2, l3, l1_,\n",
        "  \n",
        "ani = animation.FuncAnimation(\n",
        "      fig,  # Figureオブジェクト\n",
        "      draw_ani,  # グラフ描画関数\n",
        "      frames = len(T),  # フレームを設定\n",
        "      interval = 100,  # 更新間隔(ms)\n",
        "      repeat = True,  # 描画を繰り返す\n",
        "      blit = True  # blitting による処理の高速化\n",
        "      )\n",
        "\n",
        "ani.save('normaldist_kde_anim.gif', writer='pillow')\n",
        "plt.show()"
      ],
      "execution_count": 0,
      "outputs": []
    },
    {
      "cell_type": "code",
      "metadata": {
        "id": "blXDwHqk8ABU",
        "colab_type": "code",
        "colab": {
          "base_uri": "https://localhost:8080/",
          "height": 1000
        },
        "outputId": "129b489f-9168-43eb-ca8b-66d5113b1a1a"
      },
      "source": [
        "Sheta_deg = np.array([[0.0]*3 for i in range(len(T))])\n",
        "Sheta_deg = Sheta*180/PI\n",
        "print(Sheta_deg)"
      ],
      "execution_count": 13,
      "outputs": [
        {
          "output_type": "stream",
          "text": [
            "[[   1.2529119     3.72179227  -69.96204571]\n",
            " [  -2.52011114    9.22777622  -68.32674533]\n",
            " [  -6.04290987   14.25183145  -66.66832803]\n",
            " [  -9.38759888   18.90621149  -64.98687468]\n",
            " [ -12.6027918    23.26496942  -63.2825406 ]\n",
            " [ -15.72345783   27.37981741  -61.55556087]\n",
            " [ -18.7760545    31.28838832  -59.80625554]\n",
            " [ -21.78143696   35.0189201   -58.03503428]\n",
            " [ -24.75661501   38.59308713  -56.24240075]\n",
            " [ -27.71586628   42.02779866  -54.42895616]\n",
            " [ -30.67146666   45.33638667  -52.59540219]\n",
            " [ -33.63418026   48.52941484  -50.74254299]\n",
            " [ -36.61359007   51.61524248  -48.87128619]\n",
            " [ -39.61831734   54.60042424  -46.98264276]\n",
            " [ -42.65615791   57.48999602  -45.0777257 ]\n",
            " [ -45.73415297   60.28767984  -43.15774735]\n",
            " [ -48.85860345   62.9960292   -41.22401546]\n",
            " [ -52.03503334   65.61652975  -39.27792774]\n",
            " [ -55.26810362   68.14966591  -37.32096513]\n",
            " [ -58.56147693   70.59496098  -35.35468378]\n",
            " [ -61.91763232   72.95099716  -33.38070562]\n",
            " [ -65.33762994   75.21542071  -31.400708  ]\n",
            " [ -68.82082726   77.38493777  -29.41641217]\n",
            " [ -72.36455226   79.45530657  -27.42957115]\n",
            " [ -75.96374443   81.42133289  -25.44195686]\n",
            " [ -79.61058233   83.27687729  -23.45534698]\n",
            " [ -83.29412678   85.01488391  -21.47151172]\n",
            " [ -87.00002001   86.62744297  -19.49220065]\n",
            " [ -90.71029295   88.10589971  -17.51913002]\n",
            " [ -94.40334123   89.44102295  -15.55397058]\n",
            " [ -98.05413283   90.62324381  -13.59833628]\n",
            " [-101.63470062   91.64296962  -11.65377398]\n",
            " [-105.11494929   92.49096899   -9.72175421]\n",
            " [-108.46376567   93.15881074   -7.80366336]\n",
            " [-111.65036912   93.63932498   -5.90079702]\n",
            " [-114.64578493   93.92704137   -4.0143548 ]\n",
            " [-117.42428198   94.01855255   -2.14543656]\n",
            " [-119.96460283   93.91275336   -0.29503986]\n",
            " [-122.25083709   93.61092058    1.53594114]\n",
            " [-124.27284555   93.11662088    3.3467157 ]\n",
            " [-126.02621736   92.43546122    5.13659535]\n",
            " [-127.51181601   91.57471822    6.90499175]\n",
            " [-128.73502253   90.54289654    8.6514137 ]\n",
            " [-129.70480668   89.349268     10.37546342]\n",
            " [-130.43275107   88.00343569   12.07683222]\n",
            " [-130.93212688   86.5149537    13.75529567]\n",
            " [-131.21708575   84.89301852   15.41070846]\n",
            " [-131.30199907   83.14623581   17.04299898]\n",
            " [-131.20095014   81.28245647   18.65216376]\n",
            " [-130.92736695   79.30867155   20.23826191]\n",
            " [-130.49377425   77.23095264   21.80140949]\n",
            " [-129.91164046   75.05442493   23.34177409]\n",
            " [-129.19129541   72.78326128   24.85956952]\n",
            " [-128.3418979    70.42068713   26.35505062]\n",
            " [-127.37143557   67.96898831   27.82850846]\n",
            " [-126.28674282   65.42951475   29.28026566]\n",
            " [-125.09352588   62.80267433   30.7106721 ]\n",
            " [-123.79638606   60.08791171   32.1201008 ]\n",
            " [-122.39883403   57.28366642   33.50894422]\n",
            " [-120.90328839   54.38730411   34.87761076]\n",
            " [-119.31105204   51.39501303   36.22652161]\n",
            " [-117.62225858   48.3016549    37.55610785]\n",
            " [-115.83577856   45.10055501   38.86680783]\n",
            " [-113.94907169   41.78320934   40.1590648 ]\n",
            " [-111.95796399   38.33887487   41.43332483]]\n"
          ],
          "name": "stdout"
        }
      ]
    },
    {
      "cell_type": "code",
      "metadata": {
        "id": "MSRF6-l7_OW8",
        "colab_type": "code",
        "colab": {
          "base_uri": "https://localhost:8080/",
          "height": 1000
        },
        "outputId": "b0988e03-1f5e-442b-f244-b7791af5222f"
      },
      "source": [
        "Sheta_krs = np.array([[0.0]*3 for i in range(len(T))])\n",
        "Sheta_krs_i = np.array([[0]*3 for i in range(len(T))])\n",
        "Sheta_krs = Sheta_deg/270*4000+7500\n",
        "#print(Sheta_krs)\n",
        "for i in range(len(Sheta_krs)):\n",
        "  for j in range(len(Sheta_krs[0])):\n",
        "    Sheta_krs_i[i][j] = int(Sheta_krs[i][j])\n",
        "print(Sheta_krs_i)"
      ],
      "execution_count": 32,
      "outputs": [
        {
          "output_type": "stream",
          "text": [
            "[[7518 7555 6463]\n",
            " [7462 7636 6487]\n",
            " [7410 7711 6512]\n",
            " [7360 7780 6537]\n",
            " [7313 7844 6562]\n",
            " [7267 7905 6588]\n",
            " [7221 7963 6613]\n",
            " [7177 8018 6640]\n",
            " [7133 8071 6666]\n",
            " [7089 8122 6693]\n",
            " [7045 8171 6720]\n",
            " [7001 8218 6748]\n",
            " [6957 8264 6775]\n",
            " [6913 8308 6803]\n",
            " [6868 8351 6832]\n",
            " [6822 8393 6860]\n",
            " [6776 8433 6889]\n",
            " [6729 8472 6918]\n",
            " [6681 8509 6947]\n",
            " [6632 8545 6976]\n",
            " [6582 8580 7005]\n",
            " [6532 8614 7034]\n",
            " [6480 8646 7064]\n",
            " [6427 8677 7093]\n",
            " [6374 8706 7123]\n",
            " [6320 8733 7152]\n",
            " [6266 8759 7181]\n",
            " [6211 8783 7211]\n",
            " [6156 8805 7240]\n",
            " [6101 8825 7269]\n",
            " [6047 8842 7298]\n",
            " [5994 8857 7327]\n",
            " [5942 8870 7355]\n",
            " [5893 8880 7384]\n",
            " [5845 8887 7412]\n",
            " [5801 8891 7440]\n",
            " [5760 8892 7468]\n",
            " [5722 8891 7495]\n",
            " [5688 8886 7522]\n",
            " [5658 8879 7549]\n",
            " [5632 8869 7576]\n",
            " [5610 8856 7602]\n",
            " [5592 8841 7628]\n",
            " [5578 8823 7653]\n",
            " [5567 8803 7678]\n",
            " [5560 8781 7703]\n",
            " [5556 8757 7728]\n",
            " [5554 8731 7752]\n",
            " [5556 8704 7776]\n",
            " [5560 8674 7799]\n",
            " [5566 8644 7822]\n",
            " [5575 8611 7845]\n",
            " [5586 8578 7868]\n",
            " [5598 8543 7890]\n",
            " [5613 8506 7912]\n",
            " [5629 8469 7933]\n",
            " [5646 8430 7954]\n",
            " [5665 8390 7975]\n",
            " [5686 8348 7996]\n",
            " [5708 8305 8016]\n",
            " [5732 8261 8036]\n",
            " [5757 8215 8056]\n",
            " [5783 8168 8075]\n",
            " [5811 8119 8094]\n",
            " [5841 8067 8113]]\n"
          ],
          "name": "stdout"
        }
      ]
    },
    {
      "cell_type": "code",
      "metadata": {
        "id": "jTOm3T47ADDE",
        "colab_type": "code",
        "colab": {}
      },
      "source": [
        ""
      ],
      "execution_count": 0,
      "outputs": []
    }
  ]
}