{
  "nbformat": 4,
  "nbformat_minor": 0,
  "metadata": {
    "colab": {
      "name": "text_split.ipynb",
      "provenance": [],
      "collapsed_sections": [],
      "toc_visible": true,
      "authorship_tag": "ABX9TyOKI3vruhhnyKR1p42Cbw6N",
      "include_colab_link": true
    },
    "kernelspec": {
      "name": "python3",
      "display_name": "Python 3"
    }
  },
  "cells": [
    {
      "cell_type": "markdown",
      "metadata": {
        "id": "view-in-github",
        "colab_type": "text"
      },
      "source": [
        "<a href=\"https://colab.research.google.com/github/Nao-Ishi/play_py/blob/master/text_split.ipynb\" target=\"_parent\"><img src=\"https://colab.research.google.com/assets/colab-badge.svg\" alt=\"Open In Colab\"/></a>"
      ]
    },
    {
      "cell_type": "markdown",
      "metadata": {
        "id": "Yi7b3ZnJwZT6",
        "colab_type": "text"
      },
      "source": [
        "# 使い方\n",
        "----\n",
        "log.txtという名前でファイルをアップロード（左のビューワーのとこ）\n",
        "\n",
        "\n",
        "欲しい情報が左から何番目か（一番左は0番目）をtab_numに入力\n",
        "\n",
        "\n",
        "実行するとresult.txtに出力されておわり\n"
      ]
    },
    {
      "cell_type": "code",
      "metadata": {
        "id": "R-ENyab8M896",
        "colab_type": "code",
        "colab": {}
      },
      "source": [
        "import numpy as np"
      ],
      "execution_count": null,
      "outputs": []
    },
    {
      "cell_type": "code",
      "metadata": {
        "id": "mIogO-1DwXHE",
        "colab_type": "code",
        "colab": {
          "base_uri": "https://localhost:8080/",
          "height": 34
        },
        "outputId": "389c812b-5a01-4240-e00b-d53669b7340b"
      },
      "source": [
        "array = []\n",
        "tab_num = 1\n",
        "\n",
        "with open('log.txt') as f:\n",
        "  pose_org = f.readlines()\n",
        "  #print(pose_org)\n",
        "pose_num = int(len(pose_org))\n",
        "print(pose_num)\n",
        "\n",
        "\n",
        "for i in range(pose_num):\n",
        "  pool = pose_org[i].split(' ')\n",
        "  array.append(pool)\n",
        "\n",
        "#print(array)\n",
        "\n",
        "ply_f = open('result.txt','w')\n",
        "for i in range(pose_num):\n",
        "  if \n",
        "  pose_str = str(array[i][1]) + '\\t' + str(array[i][5]) + '\\t' + str(array[i][8]) + '\\t' + str(array[i][11]) + '\\n'\n",
        "  ply_f.write(pose_str)\n",
        "  \n",
        "ply_f.close()"
      ],
      "execution_count": null,
      "outputs": [
        {
          "output_type": "stream",
          "text": [
            "24\n"
          ],
          "name": "stdout"
        }
      ]
    },
    {
      "cell_type": "code",
      "metadata": {
        "id": "Z973v5fU8tIN",
        "colab_type": "code",
        "colab": {}
      },
      "source": [
        ""
      ],
      "execution_count": null,
      "outputs": []
    }
  ]
}