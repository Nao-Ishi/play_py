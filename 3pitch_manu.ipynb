{
  "nbformat": 4,
  "nbformat_minor": 0,
  "metadata": {
    "colab": {
      "name": "3pitch_manu.ipynb",
      "provenance": [],
      "collapsed_sections": [],
      "toc_visible": true,
      "include_colab_link": true
    },
    "kernelspec": {
      "name": "python3",
      "display_name": "Python 3"
    }
  },
  "cells": [
    {
      "cell_type": "markdown",
      "metadata": {
        "id": "view-in-github",
        "colab_type": "text"
      },
      "source": [
        "<a href=\"https://colab.research.google.com/github/Nao-Ishi/pray_py/blob/master/3pitch_manu.ipynb\" target=\"_parent\"><img src=\"https://colab.research.google.com/assets/colab-badge.svg\" alt=\"Open In Colab\"/></a>"
      ]
    },
    {
      "cell_type": "code",
      "metadata": {
        "id": "UgjZs344XMBX",
        "colab_type": "code",
        "outputId": "c58ff779-75f4-4459-e855-285861ca360a",
        "colab": {
          "base_uri": "https://localhost:8080/",
          "height": 51
        }
      },
      "source": [
        "!pip install pillow"
      ],
      "execution_count": 0,
      "outputs": [
        {
          "output_type": "stream",
          "text": [
            "Requirement already satisfied: pillow in /usr/local/lib/python3.6/dist-packages (4.3.0)\n",
            "Requirement already satisfied: olefile in /usr/local/lib/python3.6/dist-packages (from pillow) (0.46)\n"
          ],
          "name": "stdout"
        }
      ]
    },
    {
      "cell_type": "markdown",
      "metadata": {
        "id": "baPlC91KZBEb",
        "colab_type": "text"
      },
      "source": [
        "# やること\n",
        "- pyplot.animationとpillowでgif生成\n",
        "- マニピュレータの逆運動学を解く（大嘘）"
      ]
    },
    {
      "cell_type": "markdown",
      "metadata": {
        "id": "EoiriYTwaMDM",
        "colab_type": "text"
      },
      "source": [
        "# アニメーションの練習\n",
        "- そもそもpyplotもよくしらん"
      ]
    },
    {
      "cell_type": "code",
      "metadata": {
        "id": "yzO9-gWNZWaL",
        "colab_type": "code",
        "colab": {}
      },
      "source": [
        "import numpy as np\n",
        "import matplotlib.pyplot as plt\n",
        "import matplotlib.animation as animation\n",
        "from matplotlib.animation import PillowWriter\n",
        "import math"
      ],
      "execution_count": 0,
      "outputs": []
    },
    {
      "cell_type": "code",
      "metadata": {
        "id": "E1ztFBHncqVg",
        "colab_type": "code",
        "outputId": "5500a4f4-5e0e-49ed-8d52-fe242686bd5c",
        "colab": {
          "base_uri": "https://localhost:8080/",
          "height": 350
        }
      },
      "source": [
        "import matplotlib.patches as patches\n",
        "#キャンパス設定\n",
        "\n",
        "fig = plt.figure()\n",
        "plt.cla()\n",
        "ax = fig.add_subplot(111)\n",
        "\n",
        "Mx=650\n",
        "mx=-350\n",
        "My=500\n",
        "my=-500\n",
        "\n",
        "ax.set_xlim(mx,Mx)\n",
        "ax.set_ylim(my,My)\n",
        "ax.set_aspect('equal')\n",
        "\n",
        "ax.set_xlabel('X [mm]')\n",
        "ax.set_ylabel('Y [mm]')\n",
        "\n",
        "ax.grid(True)\n",
        "\n",
        "ax.legend()\n",
        "\n",
        "\n",
        "\n",
        "c = patches.Circle(xy=(600, -150), radius=450, ec='b', ls='--',fill=False)\n",
        "r = patches.Rectangle(xy=(400, -150), width=100.0, height=200.0)\n",
        "ax.add_patch(c)\n",
        "ax.add_patch(r)\n",
        "\n",
        "\n",
        "step_test = ax.plot(0.05,0.9,'',transform=ax.transAxes)\n",
        "plt.show()"
      ],
      "execution_count": 69,
      "outputs": [
        {
          "output_type": "stream",
          "text": [
            "/usr/local/lib/python3.6/dist-packages/ipykernel_launcher.py:6: MatplotlibDeprecationWarning: Adding an axes using the same arguments as a previous axes currently reuses the earlier instance.  In a future version, a new instance will always be created and returned.  Meanwhile, this warning can be suppressed, and the future behavior ensured, by passing a unique label to each axes instance.\n",
            "  \n",
            "No handles with labels found to put in legend.\n"
          ],
          "name": "stderr"
        },
        {
          "output_type": "display_data",
          "data": {
            "image/png": "[encoded data removed]",
            "text/plain": [
              "<Figure size 432x288 with 1 Axes>"
            ]
          },
          "metadata": {
            "tags": []
          }
        }
      ]
    },
    {
      "cell_type": "code",
      "metadata": {
        "id": "sTtE7Izwj0Jk",
        "colab_type": "code",
        "colab": {}
      },
      "source": [
        "T = np.arange(130.0,195.0)\n",
        "tag, = ax.plot([0], [0], 'ro')\n",
        "p1, = ax.plot([0], [0], 'bo')\n",
        "p2, = ax.plot([0], [0], 'go')\n",
        "l1, = ax.plot([0, 0], [0, 0], 'g')\n",
        "l2, = ax.plot([0, 0], [0, 0], 'r')\n",
        "L1 = 150\n",
        "L2 = 250\n",
        "PI = np.pi\n",
        "\n",
        "def draw_ani(t):\n",
        "    at = np.radians(T[t])\n",
        "    xt = np.cos(at)*450+600\n",
        "    yt = np.sin(at)*450-150\n",
        "    ##########################\n",
        "    #https://so-zou.jp/robot/tech/kinematics/inverse-kinematics.htm#\n",
        "    alpha = np.arccos(\n",
        "        ((-1)*(xt*xt+yt*yt)+L2*L2+L1*L1)\n",
        "        /(2*L1*L2)\n",
        "    )\n",
        "    \n",
        "    beta = np.arccos(\n",
        "        ((-1)*(L2*L2)+(L1*L1)+(xt*xt+yt*yt))\n",
        "        /(2*L1*np.sqrt(xt*xt+yt*yt))\n",
        "    )\n",
        "    sheta1 = np.arctan(yt/xt)-beta\n",
        "    sheta2 = (PI - alpha)\n",
        "    ##########################\n",
        "    xp1 = np.cos(sheta1)*L1\n",
        "    yp1 = np.sin(sheta1)*L1\n",
        "    p1.set_data(xp1,yp1)\n",
        "    ##########################\n",
        "    tag.set_data(xt, yt)\n",
        "    l1.set_data([0,xp1],[0,yp1])\n",
        "    l2.set_data([xp1,xt],[yp1,yt])\n",
        "    return tag, p1, p2, l1, l2\n",
        "  \n",
        "ani = animation.FuncAnimation(\n",
        "      fig,  # Figureオブジェクト\n",
        "      draw_ani,  # グラフ描画関数\n",
        "      frames = len(T),  # フレームを設定\n",
        "      interval = 100,  # 更新間隔(ms)\n",
        "      repeat = True,  # 描画を繰り返す\n",
        "      blit = True  # blitting による処理の高速化\n",
        "      )\n",
        "\n",
        "ani.save('normaldist_kde_anim.gif', writer='pillow')"
      ],
      "execution_count": 0,
      "outputs": []
    },
    {
      "cell_type": "code",
      "metadata": {
        "id": "jRgZFFo58vAj",
        "colab_type": "code",
        "colab": {
          "base_uri": "https://localhost:8080/",
          "height": 34
        },
        "outputId": "ec03e306-6a98-488c-b2c5-d7065a8d0544"
      },
      "source": [
        "T = np.arange(150,210,0.5)\n",
        "print(T[0])"
      ],
      "execution_count": 37,
      "outputs": [
        {
          "output_type": "stream",
          "text": [
            "150.0\n"
          ],
          "name": "stdout"
        }
      ]
    },
    {
      "cell_type": "code",
      "metadata": {
        "id": "TERcLFfs6GSF",
        "colab_type": "code",
        "colab": {}
      },
      "source": [
        ""
      ],
      "execution_count": 0,
      "outputs": []
    }
  ]
}