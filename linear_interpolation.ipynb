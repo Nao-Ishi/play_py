{
  "nbformat": 4,
  "nbformat_minor": 0,
  "metadata": {
    "colab": {
      "name": "linear_interpolation.ipynb",
      "provenance": [],
      "include_colab_link": true
    },
    "kernelspec": {
      "name": "python3",
      "display_name": "Python 3"
    }
  },
  "cells": [
    {
      "cell_type": "markdown",
      "metadata": {
        "id": "view-in-github",
        "colab_type": "text"
      },
      "source": [
        "<a href=\"https://colab.research.google.com/github/Nao-Ishi/pray_py/blob/master/linear_interpolation.ipynb\" target=\"_parent\"><img src=\"https://colab.research.google.com/assets/colab-badge.svg\" alt=\"Open In Colab\"/></a>"
      ]
    },
    {
      "cell_type": "code",
      "metadata": {
        "id": "Z8umXBETVBog",
        "colab_type": "code",
        "colab": {}
      },
      "source": [
        "import numpy as np"
      ],
      "execution_count": 0,
      "outputs": []
    },
    {
      "cell_type": "code",
      "metadata": {
        "id": "TrNe2UKMVfqm",
        "colab_type": "code",
        "colab": {}
      },
      "source": [
        "def linear_int(unk_num, start_x,start_y,fin_x, fin_y):\n",
        "  int_points = np.array([[0]*2 for i in range(unk_num)])\n",
        "  for i in range(unk_num):\n",
        "    int_points[i][0]=int((fin_x-start_x) / (unk_num+1) * (i+1))\n",
        "    int_points[i][1]=int((fin_y-start_y) / (unk_num+1) * (i+1))\n",
        "  int_points = np.abs(int_points)\n",
        "  return int_points"
      ],
      "execution_count": 0,
      "outputs": []
    },
    {
      "cell_type": "code",
      "metadata": {
        "id": "-9WaB96BYeOH",
        "colab_type": "code",
        "colab": {
          "base_uri": "https://localhost:8080/",
          "height": 68
        },
        "outputId": "13c81d8c-d200-47ee-e756-e22fc599d706"
      },
      "source": [
        "pnts = []\n",
        "start = [200,500]\n",
        "finish = [800,200]\n",
        "pnts = linear_int(3,start[0],start[1],finish[0],finish[1])\n",
        "print(pnts)"
      ],
      "execution_count": 42,
      "outputs": [
        {
          "output_type": "stream",
          "text": [
            "[[150  75]\n",
            " [300 150]\n",
            " [450 225]]\n"
          ],
          "name": "stdout"
        }
      ]
    },
    {
      "cell_type": "code",
      "metadata": {
        "id": "j_EATdJZbfDu",
        "colab_type": "code",
        "colab": {}
      },
      "source": [
        ""
      ],
      "execution_count": 0,
      "outputs": []
    }
  ]
}